{
 "cells": [
  {
   "cell_type": "markdown",
   "metadata": {},
   "source": [
    "# Predicting digit images"
   ]
  },
  {
   "cell_type": "markdown",
   "metadata": {},
   "source": [
    "## Importing required libraries"
   ]
  },
  {
   "cell_type": "code",
   "execution_count": 655,
   "metadata": {},
   "outputs": [],
   "source": [
    "import numpy as np\n",
    "import pandas as pd\n",
    "import matplotlib.pyplot as plt\n",
    "import os\n",
    "import time\n",
    "from xgboost import XGBClassifier\n",
    "from sklearn.model_selection import train_test_split\n",
    "from sklearn.preprocessing import StandardScaler\n",
    "#from sklearn.linear_model import LogisticRegression\n",
    "#from sklearn.metrics import roc_curve, auc\n",
    "from sklearn.metrics import accuracy_score, confusion_matrix, classification_report\n",
    "\n",
    "from sklearn.ensemble import RandomForestClassifier\n",
    "from sklearn.model_selection import GridSearchCV\n",
    "\n",
    "from sklearn.metrics import precision_score, recall_score, accuracy_score, f1_score\n",
    "from sklearn import svm\n"
   ]
  },
  {
   "cell_type": "markdown",
   "metadata": {},
   "source": [
    "## Download data"
   ]
  },
  {
   "cell_type": "code",
   "execution_count": 402,
   "metadata": {},
   "outputs": [
    {
     "data": {
      "text/html": [
       "<div>\n",
       "<style scoped>\n",
       "    .dataframe tbody tr th:only-of-type {\n",
       "        vertical-align: middle;\n",
       "    }\n",
       "\n",
       "    .dataframe tbody tr th {\n",
       "        vertical-align: top;\n",
       "    }\n",
       "\n",
       "    .dataframe thead th {\n",
       "        text-align: right;\n",
       "    }\n",
       "</style>\n",
       "<table border=\"1\" class=\"dataframe\">\n",
       "  <thead>\n",
       "    <tr style=\"text-align: right;\">\n",
       "      <th></th>\n",
       "      <th>label</th>\n",
       "      <th>pixel0</th>\n",
       "      <th>pixel1</th>\n",
       "      <th>pixel2</th>\n",
       "      <th>pixel3</th>\n",
       "      <th>pixel4</th>\n",
       "      <th>pixel5</th>\n",
       "      <th>pixel6</th>\n",
       "      <th>pixel7</th>\n",
       "      <th>pixel8</th>\n",
       "      <th>...</th>\n",
       "      <th>pixel774</th>\n",
       "      <th>pixel775</th>\n",
       "      <th>pixel776</th>\n",
       "      <th>pixel777</th>\n",
       "      <th>pixel778</th>\n",
       "      <th>pixel779</th>\n",
       "      <th>pixel780</th>\n",
       "      <th>pixel781</th>\n",
       "      <th>pixel782</th>\n",
       "      <th>pixel783</th>\n",
       "    </tr>\n",
       "  </thead>\n",
       "  <tbody>\n",
       "    <tr>\n",
       "      <th>0</th>\n",
       "      <td>1</td>\n",
       "      <td>0</td>\n",
       "      <td>0</td>\n",
       "      <td>0</td>\n",
       "      <td>0</td>\n",
       "      <td>0</td>\n",
       "      <td>0</td>\n",
       "      <td>0</td>\n",
       "      <td>0</td>\n",
       "      <td>0</td>\n",
       "      <td>...</td>\n",
       "      <td>0</td>\n",
       "      <td>0</td>\n",
       "      <td>0</td>\n",
       "      <td>0</td>\n",
       "      <td>0</td>\n",
       "      <td>0</td>\n",
       "      <td>0</td>\n",
       "      <td>0</td>\n",
       "      <td>0</td>\n",
       "      <td>0</td>\n",
       "    </tr>\n",
       "    <tr>\n",
       "      <th>1</th>\n",
       "      <td>0</td>\n",
       "      <td>0</td>\n",
       "      <td>0</td>\n",
       "      <td>0</td>\n",
       "      <td>0</td>\n",
       "      <td>0</td>\n",
       "      <td>0</td>\n",
       "      <td>0</td>\n",
       "      <td>0</td>\n",
       "      <td>0</td>\n",
       "      <td>...</td>\n",
       "      <td>0</td>\n",
       "      <td>0</td>\n",
       "      <td>0</td>\n",
       "      <td>0</td>\n",
       "      <td>0</td>\n",
       "      <td>0</td>\n",
       "      <td>0</td>\n",
       "      <td>0</td>\n",
       "      <td>0</td>\n",
       "      <td>0</td>\n",
       "    </tr>\n",
       "    <tr>\n",
       "      <th>2</th>\n",
       "      <td>1</td>\n",
       "      <td>0</td>\n",
       "      <td>0</td>\n",
       "      <td>0</td>\n",
       "      <td>0</td>\n",
       "      <td>0</td>\n",
       "      <td>0</td>\n",
       "      <td>0</td>\n",
       "      <td>0</td>\n",
       "      <td>0</td>\n",
       "      <td>...</td>\n",
       "      <td>0</td>\n",
       "      <td>0</td>\n",
       "      <td>0</td>\n",
       "      <td>0</td>\n",
       "      <td>0</td>\n",
       "      <td>0</td>\n",
       "      <td>0</td>\n",
       "      <td>0</td>\n",
       "      <td>0</td>\n",
       "      <td>0</td>\n",
       "    </tr>\n",
       "    <tr>\n",
       "      <th>3</th>\n",
       "      <td>4</td>\n",
       "      <td>0</td>\n",
       "      <td>0</td>\n",
       "      <td>0</td>\n",
       "      <td>0</td>\n",
       "      <td>0</td>\n",
       "      <td>0</td>\n",
       "      <td>0</td>\n",
       "      <td>0</td>\n",
       "      <td>0</td>\n",
       "      <td>...</td>\n",
       "      <td>0</td>\n",
       "      <td>0</td>\n",
       "      <td>0</td>\n",
       "      <td>0</td>\n",
       "      <td>0</td>\n",
       "      <td>0</td>\n",
       "      <td>0</td>\n",
       "      <td>0</td>\n",
       "      <td>0</td>\n",
       "      <td>0</td>\n",
       "    </tr>\n",
       "    <tr>\n",
       "      <th>4</th>\n",
       "      <td>0</td>\n",
       "      <td>0</td>\n",
       "      <td>0</td>\n",
       "      <td>0</td>\n",
       "      <td>0</td>\n",
       "      <td>0</td>\n",
       "      <td>0</td>\n",
       "      <td>0</td>\n",
       "      <td>0</td>\n",
       "      <td>0</td>\n",
       "      <td>...</td>\n",
       "      <td>0</td>\n",
       "      <td>0</td>\n",
       "      <td>0</td>\n",
       "      <td>0</td>\n",
       "      <td>0</td>\n",
       "      <td>0</td>\n",
       "      <td>0</td>\n",
       "      <td>0</td>\n",
       "      <td>0</td>\n",
       "      <td>0</td>\n",
       "    </tr>\n",
       "  </tbody>\n",
       "</table>\n",
       "<p>5 rows × 785 columns</p>\n",
       "</div>"
      ],
      "text/plain": [
       "   label  pixel0  pixel1  pixel2  pixel3  pixel4  pixel5  pixel6  pixel7  \\\n",
       "0      1       0       0       0       0       0       0       0       0   \n",
       "1      0       0       0       0       0       0       0       0       0   \n",
       "2      1       0       0       0       0       0       0       0       0   \n",
       "3      4       0       0       0       0       0       0       0       0   \n",
       "4      0       0       0       0       0       0       0       0       0   \n",
       "\n",
       "   pixel8  ...  pixel774  pixel775  pixel776  pixel777  pixel778  pixel779  \\\n",
       "0       0  ...         0         0         0         0         0         0   \n",
       "1       0  ...         0         0         0         0         0         0   \n",
       "2       0  ...         0         0         0         0         0         0   \n",
       "3       0  ...         0         0         0         0         0         0   \n",
       "4       0  ...         0         0         0         0         0         0   \n",
       "\n",
       "   pixel780  pixel781  pixel782  pixel783  \n",
       "0         0         0         0         0  \n",
       "1         0         0         0         0  \n",
       "2         0         0         0         0  \n",
       "3         0         0         0         0  \n",
       "4         0         0         0         0  \n",
       "\n",
       "[5 rows x 785 columns]"
      ]
     },
     "execution_count": 402,
     "metadata": {},
     "output_type": "execute_result"
    }
   ],
   "source": [
    "df = pd.read_csv('digit-recognizer/train.csv')\n",
    "df.head()"
   ]
  },
  {
   "cell_type": "markdown",
   "metadata": {},
   "source": [
    "## Visualize the digits"
   ]
  },
  {
   "cell_type": "code",
   "execution_count": 55,
   "metadata": {},
   "outputs": [],
   "source": [
    "#df.loc[:,df.columns!='label'] = np.ceil((df.loc[:,df.columns!='label'])/100)"
   ]
  },
  {
   "cell_type": "code",
   "execution_count": 87,
   "metadata": {},
   "outputs": [],
   "source": [
    "#df.loc[:,df.columns!='label'] = (df.loc[:,df.columns!='label']> 0)"
   ]
  },
  {
   "cell_type": "code",
   "execution_count": null,
   "metadata": {},
   "outputs": [],
   "source": [
    "## Visualize 16 digits randomly"
   ]
  },
  {
   "cell_type": "code",
   "execution_count": 192,
   "metadata": {},
   "outputs": [
    {
     "data": {
      "image/png": "[encoded data removed]",
      "text/plain": [
       "<Figure size 720x720 with 16 Axes>"
      ]
     },
     "metadata": {},
     "output_type": "display_data"
    }
   ],
   "source": [
    "labels = df['label']\n",
    "l = np.random.randint(df.shape[0],size = 16)\n",
    "plt_labels = labels[l]\n",
    "plt_images = df.iloc[l].filter(like='pixel').to_numpy().reshape(-1, 28, 28, 1)\n",
    "fig, axes = plt.subplots(nrows=4, ncols=4, figsize=(10, 10))\n",
    "for image, label, ax in zip(plt_images, plt_labels, axes.ravel()):\n",
    "    ax.imshow(image,cmap='gray', vmin=0, vmax=255)\n",
    "    ax.set(title=label, xticks=[], yticks=[])"
   ]
  },
  {
   "cell_type": "code",
   "execution_count": 97,
   "metadata": {},
   "outputs": [],
   "source": [
    "df_test = pd.read_csv('digit-recognizer/test.csv')\n",
    "#df_test = (df_test> 0)"
   ]
  },
  {
   "cell_type": "code",
   "execution_count": 199,
   "metadata": {},
   "outputs": [
    {
     "name": "stderr",
     "output_type": "stream",
     "text": [
      "/Users/akshayghalsasi/opt/anaconda3/lib/python3.8/site-packages/joblib/externals/loky/process_executor.py:688: UserWarning: A worker stopped while some jobs were given to the executor. This can be caused by a too short worker timeout or by a memory leak.\n",
      "  warnings.warn(\n"
     ]
    },
    {
     "name": "stdout",
     "output_type": "stream",
     "text": [
      "Training Accuracy: 95.78%\n",
      "\n",
      "Optimal Parameters: {'criterion': 'gini', 'max_depth': None, 'min_samples_leaf': 3, 'min_samples_split': 5, 'n_estimators': 100}\n",
      "{'accuracy': 0.9596428571428571}\n",
      "331.4619212150574\n"
     ]
    }
   ],
   "source": [
    "start_time = time.time()\n",
    "y = df['label']\n",
    "scaler = StandardScaler()\n",
    "X = scaler.fit_transform(df.drop(['label'],axis=1))\n",
    "X_train, X_test, y_train, y_test = train_test_split(X, y, test_size=0.2,random_state=42)\n",
    "\n",
    "rf_clf = RandomForestClassifier()\n",
    "rf_param_grid = {\n",
    "            'n_estimators': [100],\n",
    "            'criterion': ['gini', 'entropy'],\n",
    "            'max_depth': [None, 2, 3, 5,10],\n",
    "            'min_samples_split': [None,5,10],\n",
    "            'min_samples_leaf': [None,3,5],\n",
    "        }\n",
    "rf_grid_search = GridSearchCV(rf_clf, rf_param_grid, cv=5,n_jobs=-1)\n",
    "rf_grid_search.fit(X_train, y_train)\n",
    "print(f\"Training Accuracy: {rf_grid_search.best_score_ :.2%}\")\n",
    "print(\"\")\n",
    "print(f\"Optimal Parameters: {rf_grid_search.best_params_}\")\n",
    "best_rf = rf_grid_search.best_params_\n",
    "\n",
    "y_hat_test_RF = rf_grid_search.predict(X_test)\n",
    "RF_dict = {'accuracy':accuracy_score(y_hat_test_RF,y_test)}\n",
    "print(RF_dict)\n",
    "\n",
    "\n",
    "\n",
    "accuracy_score(y_hat_test_RF,y_test)\n",
    "\n",
    "prediction = rf_grid_search.predict(scaler.fit_transform(df_test))\n",
    "\n",
    "prediction_df = pd.DataFrame(data = zip(np.arange(1,28001),prediction),\n",
    "                  columns = ['ImageId','Label'])\n",
    "prediction_df.to_csv('submission.csv',index=False)\n",
    "print(time.time()-start_time)"
   ]
  },
  {
   "cell_type": "code",
   "execution_count": 215,
   "metadata": {},
   "outputs": [
    {
     "data": {
      "text/plain": [
       "<matplotlib.image.AxesImage at 0x7fd8e39594f0>"
      ]
     },
     "execution_count": 215,
     "metadata": {},
     "output_type": "execute_result"
    },
    {
     "data": {
      "image/png": "[encoded data removed]",
      "text/plain": [
       "<Figure size 288x288 with 1 Axes>"
      ]
     },
     "metadata": {
      "needs_background": "light"
     },
     "output_type": "display_data"
    }
   ],
   "source": [
    "a = np.zeros([10,10],int)\n",
    "np.fill_diagonal(a,np.diag(confusion_matrix(y_test,y_hat_test_RF)))\n",
    "plt.matshow(confusion_matrix(y_test,y_hat_test_RF)-a)"
   ]
  },
  {
   "cell_type": "code",
   "execution_count": 230,
   "metadata": {},
   "outputs": [
    {
     "data": {
      "text/plain": [
       "array([0.98529412, 0.99009901, 0.95744681, 0.93383138, 0.96781883,\n",
       "       0.94586895, 0.98089172, 0.9462486 , 0.95449102, 0.93556086])"
      ]
     },
     "execution_count": 230,
     "metadata": {},
     "output_type": "execute_result"
    }
   ],
   "source": [
    "np.diagonal(confusion_matrix(y_test,y_hat_test_RF))/np.array(y_test.value_counts().sort_index())"
   ]
  },
  {
   "cell_type": "markdown",
   "metadata": {},
   "source": [
    "As we can see 3 and 9 are pretty poorly predicted as are 5,7 and 8  Lets serr if we can do any better"
   ]
  },
  {
   "cell_type": "markdown",
   "metadata": {},
   "source": [
    "### Trying one vs all classification Random Forest"
   ]
  },
  {
   "cell_type": "code",
   "execution_count": 233,
   "metadata": {},
   "outputs": [
    {
     "name": "stderr",
     "output_type": "stream",
     "text": [
      "/Users/akshayghalsasi/opt/anaconda3/lib/python3.8/site-packages/joblib/externals/loky/process_executor.py:688: UserWarning: A worker stopped while some jobs were given to the executor. This can be caused by a too short worker timeout or by a memory leak.\n",
      "  warnings.warn(\n"
     ]
    },
    {
     "name": "stdout",
     "output_type": "stream",
     "text": [
      "Training Accuracy: 98.60%\n",
      "\n",
      "Optimal Parameters: {'class_weight': 'balanced', 'criterion': 'entropy', 'max_depth': None, 'min_samples_leaf': 5, 'min_samples_split': 5, 'n_estimators': 100}\n",
      "{'accuracy': 0.9854761904761905}\n",
      "261.70926094055176\n"
     ]
    }
   ],
   "source": [
    "start_time = time.time()\n",
    "y = (df['label']==3)\n",
    "scaler = StandardScaler()\n",
    "X = scaler.fit_transform(df.drop(['label'],axis=1))\n",
    "X_train, X_test, y_train, y_test = train_test_split(X, y, test_size=0.2,random_state = 42)\n",
    "\n",
    "rf_clf = RandomForestClassifier()\n",
    "rf_param_grid = {\n",
    "            'n_estimators': [100],\n",
    "            'criterion': ['gini', 'entropy'],\n",
    "            'max_depth': [None, 2, 3, 5,10],\n",
    "            'min_samples_split': [None,5,10],\n",
    "            'min_samples_leaf': [None,3,5],\n",
    "            'class_weight': [\"balanced\"]\n",
    "        }\n",
    "rf_grid_search = GridSearchCV(rf_clf, rf_param_grid, cv=5,n_jobs=-1)\n",
    "rf_grid_search.fit(X_train, y_train)\n",
    "print(f\"Training Accuracy: {rf_grid_search.best_score_ :.2%}\")\n",
    "print(\"\")\n",
    "print(f\"Optimal Parameters: {rf_grid_search.best_params_}\")\n",
    "best_rf = rf_grid_search.best_params_\n",
    "\n",
    "y_hat_test_RF = rf_grid_search.predict(X_test)\n",
    "RF_dict = {'accuracy':accuracy_score(y_hat_test_RF,y_test)}\n",
    "print(RF_dict)\n",
    "print(time.time()-start_time)"
   ]
  },
  {
   "cell_type": "markdown",
   "metadata": {},
   "source": [
    "It seems the accuracy has increased. Now lets see if we can do ove vs all classification on all classes"
   ]
  },
  {
   "cell_type": "code",
   "execution_count": 243,
   "metadata": {},
   "outputs": [
    {
     "name": "stdout",
     "output_type": "stream",
     "text": [
      "Analyzing: 0\n",
      "Analyzing: 1\n",
      "Analyzing: 2\n",
      "Analyzing: 3\n",
      "Analyzing: 4\n",
      "Analyzing: 5\n",
      "Analyzing: 6\n",
      "Analyzing: 7\n",
      "Analyzing: 8\n",
      "Analyzing: 9\n"
     ]
    }
   ],
   "source": [
    "grid_search_result = []\n",
    "prob_array = []\n",
    "for label in range(10):\n",
    "    print('Analyzing:', label)\n",
    "    y = (df['label']==label)\n",
    "    scaler = StandardScaler()\n",
    "    X = scaler.fit_transform(df.drop(['label'],axis=1))\n",
    "    X_train, X_test, y_train, y_test = train_test_split(X, y, test_size=0.2,random_state = 42)\n",
    "\n",
    "    rf_clf = RandomForestClassifier()\n",
    "    rf_param_grid = {\n",
    "                'n_estimators': [100],\n",
    "                'criterion': ['gini', 'entropy'],\n",
    "                'max_depth': [None, 2, 3, 5,10],\n",
    "                'min_samples_split': [None,5,10],\n",
    "                'min_samples_leaf': [None,3,5],\n",
    "                'class_weight': [\"balanced\"]\n",
    "            }\n",
    "    rf_grid_search = GridSearchCV(rf_clf, rf_param_grid, cv=5,n_jobs=-1)\n",
    "    rf_grid_search.fit(X_train, y_train)\n",
    "\n",
    "    grid_search_result.append(rf_grid_search)\n",
    "    \n",
    "    y_hat_test_RF = rf_grid_search.predict_proba(X_test)[:,1]\n",
    "    prob_array.append(y_hat_test_RF)"
   ]
  },
  {
   "cell_type": "code",
   "execution_count": 256,
   "metadata": {},
   "outputs": [
    {
     "data": {
      "text/plain": [
       "array([8, 1, 9, ..., 3, 0, 9])"
      ]
     },
     "execution_count": 256,
     "metadata": {},
     "output_type": "execute_result"
    }
   ],
   "source": [
    "np.argmax(np.array(prob_array),axis=0)"
   ]
  },
  {
   "cell_type": "code",
   "execution_count": 258,
   "metadata": {},
   "outputs": [],
   "source": [
    "y = df['label']\n",
    "X = scaler.fit_transform(df.drop(['label'],axis=1))\n",
    "X_train, X_test, y_train, y_test = train_test_split(X, y, test_size=0.2,random_state = 42)"
   ]
  },
  {
   "cell_type": "code",
   "execution_count": 259,
   "metadata": {},
   "outputs": [
    {
     "data": {
      "text/plain": [
       "5457     8\n",
       "38509    1\n",
       "25536    9\n",
       "31803    9\n",
       "39863    8\n",
       "        ..\n",
       "8388     4\n",
       "29359    9\n",
       "40276    3\n",
       "18421    0\n",
       "4335     9\n",
       "Name: label, Length: 8400, dtype: int64"
      ]
     },
     "execution_count": 259,
     "metadata": {},
     "output_type": "execute_result"
    }
   ],
   "source": [
    "y_test"
   ]
  },
  {
   "cell_type": "code",
   "execution_count": 262,
   "metadata": {},
   "outputs": [
    {
     "data": {
      "text/plain": [
       "0.96"
      ]
     },
     "execution_count": 262,
     "metadata": {},
     "output_type": "execute_result"
    }
   ],
   "source": [
    "(np.argmax(np.array(prob_array),axis=0) ==y_test).sum()/y_test.shape[0]"
   ]
  },
  {
   "cell_type": "markdown",
   "metadata": {},
   "source": [
    "### Feeding row by row correlation"
   ]
  },
  {
   "cell_type": "code",
   "execution_count": 342,
   "metadata": {},
   "outputs": [],
   "source": [
    "df_zeros = df[df.label==0]\n",
    "df_ones = df[df.label == 1]"
   ]
  },
  {
   "cell_type": "code",
   "execution_count": 347,
   "metadata": {},
   "outputs": [
    {
     "data": {
      "text/plain": [
       "<matplotlib.image.AxesImage at 0x7fdb14411d00>"
      ]
     },
     "execution_count": 347,
     "metadata": {},
     "output_type": "execute_result"
    },
    {
     "data": {
      "image/png": "[encoded data removed]",
      "text/plain": [
       "<Figure size 432x288 with 1 Axes>"
      ]
     },
     "metadata": {
      "needs_background": "light"
     },
     "output_type": "display_data"
    }
   ],
   "source": [
    "plt.imshow(np.matmul(df_zeros.iloc[7].filter(like='pixel').to_numpy().reshape(-1,28,28),df_zeros.iloc[7].filter(like='pixel').to_numpy().reshape(-1,28,28).T))"
   ]
  },
  {
   "cell_type": "code",
   "execution_count": 295,
   "metadata": {},
   "outputs": [
    {
     "data": {
      "text/plain": [
       "<matplotlib.image.AxesImage at 0x7fd8e2dec0a0>"
      ]
     },
     "execution_count": 295,
     "metadata": {},
     "output_type": "execute_result"
    },
    {
     "data": {
      "image/png": "[encoded data removed]",
      "text/plain": [
       "<Figure size 432x288 with 1 Axes>"
      ]
     },
     "metadata": {
      "needs_background": "light"
     },
     "output_type": "display_data"
    }
   ],
   "source": [
    "plt.imshow(np.matmul(df_ones.iloc[0].filter(like='pixel').to_numpy().reshape(-1,28,28),df_ones.iloc[0].filter(like='pixel').to_numpy().reshape(-1,28,28).T))"
   ]
  },
  {
   "cell_type": "code",
   "execution_count": 318,
   "metadata": {},
   "outputs": [
    {
     "data": {
      "text/plain": [
       "(4132, 785)"
      ]
     },
     "execution_count": 318,
     "metadata": {},
     "output_type": "execute_result"
    }
   ],
   "source": [
    "np.zeros([df_zeros.shape[0],df_zeros.shape[1]]).shape"
   ]
  },
  {
   "cell_type": "code",
   "execution_count": 319,
   "metadata": {},
   "outputs": [],
   "source": [
    "df_zeros_final = pd.DataFrame(np.zeros([df_zeros.shape[0],df_zeros.shape[1]]))\n",
    "\n",
    "df_zeros_final.columns = df.columns\n",
    "\n",
    "df_zeros_final['label'] = df_zeros['label']"
   ]
  },
  {
   "cell_type": "code",
   "execution_count": 355,
   "metadata": {},
   "outputs": [],
   "source": [
    "df_ones_final = pd.DataFrame(np.zeros([df_ones.shape[0],df_ones.shape[1]]))\n",
    "\n",
    "df_ones_final.columns = df.columns\n",
    "\n",
    "df_ones_final['label'] = df_ones['label']"
   ]
  },
  {
   "cell_type": "code",
   "execution_count": 394,
   "metadata": {},
   "outputs": [
    {
     "data": {
      "text/html": [
       "<div>\n",
       "<style scoped>\n",
       "    .dataframe tbody tr th:only-of-type {\n",
       "        vertical-align: middle;\n",
       "    }\n",
       "\n",
       "    .dataframe tbody tr th {\n",
       "        vertical-align: top;\n",
       "    }\n",
       "\n",
       "    .dataframe thead th {\n",
       "        text-align: right;\n",
       "    }\n",
       "</style>\n",
       "<table border=\"1\" class=\"dataframe\">\n",
       "  <thead>\n",
       "    <tr style=\"text-align: right;\">\n",
       "      <th></th>\n",
       "      <th>label</th>\n",
       "      <th>pixel0</th>\n",
       "      <th>pixel1</th>\n",
       "      <th>pixel2</th>\n",
       "      <th>pixel3</th>\n",
       "      <th>pixel4</th>\n",
       "      <th>pixel5</th>\n",
       "      <th>pixel6</th>\n",
       "      <th>pixel7</th>\n",
       "      <th>pixel8</th>\n",
       "      <th>...</th>\n",
       "      <th>pixel774</th>\n",
       "      <th>pixel775</th>\n",
       "      <th>pixel776</th>\n",
       "      <th>pixel777</th>\n",
       "      <th>pixel778</th>\n",
       "      <th>pixel779</th>\n",
       "      <th>pixel780</th>\n",
       "      <th>pixel781</th>\n",
       "      <th>pixel782</th>\n",
       "      <th>pixel783</th>\n",
       "    </tr>\n",
       "  </thead>\n",
       "  <tbody>\n",
       "    <tr>\n",
       "      <th>0</th>\n",
       "      <td>1</td>\n",
       "      <td>0</td>\n",
       "      <td>0</td>\n",
       "      <td>0</td>\n",
       "      <td>0</td>\n",
       "      <td>0</td>\n",
       "      <td>0</td>\n",
       "      <td>0</td>\n",
       "      <td>0</td>\n",
       "      <td>0</td>\n",
       "      <td>...</td>\n",
       "      <td>0</td>\n",
       "      <td>0</td>\n",
       "      <td>0</td>\n",
       "      <td>0</td>\n",
       "      <td>0</td>\n",
       "      <td>0</td>\n",
       "      <td>0</td>\n",
       "      <td>0</td>\n",
       "      <td>0</td>\n",
       "      <td>0</td>\n",
       "    </tr>\n",
       "    <tr>\n",
       "      <th>1</th>\n",
       "      <td>0</td>\n",
       "      <td>0</td>\n",
       "      <td>0</td>\n",
       "      <td>0</td>\n",
       "      <td>0</td>\n",
       "      <td>0</td>\n",
       "      <td>0</td>\n",
       "      <td>0</td>\n",
       "      <td>0</td>\n",
       "      <td>0</td>\n",
       "      <td>...</td>\n",
       "      <td>0</td>\n",
       "      <td>0</td>\n",
       "      <td>0</td>\n",
       "      <td>0</td>\n",
       "      <td>0</td>\n",
       "      <td>0</td>\n",
       "      <td>0</td>\n",
       "      <td>0</td>\n",
       "      <td>0</td>\n",
       "      <td>0</td>\n",
       "    </tr>\n",
       "    <tr>\n",
       "      <th>2</th>\n",
       "      <td>1</td>\n",
       "      <td>0</td>\n",
       "      <td>0</td>\n",
       "      <td>0</td>\n",
       "      <td>0</td>\n",
       "      <td>0</td>\n",
       "      <td>0</td>\n",
       "      <td>0</td>\n",
       "      <td>0</td>\n",
       "      <td>0</td>\n",
       "      <td>...</td>\n",
       "      <td>0</td>\n",
       "      <td>0</td>\n",
       "      <td>0</td>\n",
       "      <td>0</td>\n",
       "      <td>0</td>\n",
       "      <td>0</td>\n",
       "      <td>0</td>\n",
       "      <td>0</td>\n",
       "      <td>0</td>\n",
       "      <td>0</td>\n",
       "    </tr>\n",
       "    <tr>\n",
       "      <th>3</th>\n",
       "      <td>4</td>\n",
       "      <td>0</td>\n",
       "      <td>0</td>\n",
       "      <td>0</td>\n",
       "      <td>0</td>\n",
       "      <td>0</td>\n",
       "      <td>0</td>\n",
       "      <td>0</td>\n",
       "      <td>0</td>\n",
       "      <td>0</td>\n",
       "      <td>...</td>\n",
       "      <td>0</td>\n",
       "      <td>0</td>\n",
       "      <td>0</td>\n",
       "      <td>0</td>\n",
       "      <td>0</td>\n",
       "      <td>0</td>\n",
       "      <td>0</td>\n",
       "      <td>0</td>\n",
       "      <td>0</td>\n",
       "      <td>0</td>\n",
       "    </tr>\n",
       "    <tr>\n",
       "      <th>4</th>\n",
       "      <td>0</td>\n",
       "      <td>0</td>\n",
       "      <td>0</td>\n",
       "      <td>0</td>\n",
       "      <td>0</td>\n",
       "      <td>0</td>\n",
       "      <td>0</td>\n",
       "      <td>0</td>\n",
       "      <td>0</td>\n",
       "      <td>0</td>\n",
       "      <td>...</td>\n",
       "      <td>0</td>\n",
       "      <td>0</td>\n",
       "      <td>0</td>\n",
       "      <td>0</td>\n",
       "      <td>0</td>\n",
       "      <td>0</td>\n",
       "      <td>0</td>\n",
       "      <td>0</td>\n",
       "      <td>0</td>\n",
       "      <td>0</td>\n",
       "    </tr>\n",
       "    <tr>\n",
       "      <th>...</th>\n",
       "      <td>...</td>\n",
       "      <td>...</td>\n",
       "      <td>...</td>\n",
       "      <td>...</td>\n",
       "      <td>...</td>\n",
       "      <td>...</td>\n",
       "      <td>...</td>\n",
       "      <td>...</td>\n",
       "      <td>...</td>\n",
       "      <td>...</td>\n",
       "      <td>...</td>\n",
       "      <td>...</td>\n",
       "      <td>...</td>\n",
       "      <td>...</td>\n",
       "      <td>...</td>\n",
       "      <td>...</td>\n",
       "      <td>...</td>\n",
       "      <td>...</td>\n",
       "      <td>...</td>\n",
       "      <td>...</td>\n",
       "      <td>...</td>\n",
       "    </tr>\n",
       "    <tr>\n",
       "      <th>41995</th>\n",
       "      <td>0</td>\n",
       "      <td>0</td>\n",
       "      <td>0</td>\n",
       "      <td>0</td>\n",
       "      <td>0</td>\n",
       "      <td>0</td>\n",
       "      <td>0</td>\n",
       "      <td>0</td>\n",
       "      <td>0</td>\n",
       "      <td>0</td>\n",
       "      <td>...</td>\n",
       "      <td>0</td>\n",
       "      <td>0</td>\n",
       "      <td>0</td>\n",
       "      <td>0</td>\n",
       "      <td>0</td>\n",
       "      <td>0</td>\n",
       "      <td>0</td>\n",
       "      <td>0</td>\n",
       "      <td>0</td>\n",
       "      <td>0</td>\n",
       "    </tr>\n",
       "    <tr>\n",
       "      <th>41996</th>\n",
       "      <td>1</td>\n",
       "      <td>0</td>\n",
       "      <td>0</td>\n",
       "      <td>0</td>\n",
       "      <td>0</td>\n",
       "      <td>0</td>\n",
       "      <td>0</td>\n",
       "      <td>0</td>\n",
       "      <td>0</td>\n",
       "      <td>0</td>\n",
       "      <td>...</td>\n",
       "      <td>0</td>\n",
       "      <td>0</td>\n",
       "      <td>0</td>\n",
       "      <td>0</td>\n",
       "      <td>0</td>\n",
       "      <td>0</td>\n",
       "      <td>0</td>\n",
       "      <td>0</td>\n",
       "      <td>0</td>\n",
       "      <td>0</td>\n",
       "    </tr>\n",
       "    <tr>\n",
       "      <th>41997</th>\n",
       "      <td>7</td>\n",
       "      <td>0</td>\n",
       "      <td>0</td>\n",
       "      <td>0</td>\n",
       "      <td>0</td>\n",
       "      <td>0</td>\n",
       "      <td>0</td>\n",
       "      <td>0</td>\n",
       "      <td>0</td>\n",
       "      <td>0</td>\n",
       "      <td>...</td>\n",
       "      <td>0</td>\n",
       "      <td>0</td>\n",
       "      <td>0</td>\n",
       "      <td>0</td>\n",
       "      <td>0</td>\n",
       "      <td>0</td>\n",
       "      <td>0</td>\n",
       "      <td>0</td>\n",
       "      <td>0</td>\n",
       "      <td>0</td>\n",
       "    </tr>\n",
       "    <tr>\n",
       "      <th>41998</th>\n",
       "      <td>6</td>\n",
       "      <td>0</td>\n",
       "      <td>0</td>\n",
       "      <td>0</td>\n",
       "      <td>0</td>\n",
       "      <td>0</td>\n",
       "      <td>0</td>\n",
       "      <td>0</td>\n",
       "      <td>0</td>\n",
       "      <td>0</td>\n",
       "      <td>...</td>\n",
       "      <td>0</td>\n",
       "      <td>0</td>\n",
       "      <td>0</td>\n",
       "      <td>0</td>\n",
       "      <td>0</td>\n",
       "      <td>0</td>\n",
       "      <td>0</td>\n",
       "      <td>0</td>\n",
       "      <td>0</td>\n",
       "      <td>0</td>\n",
       "    </tr>\n",
       "    <tr>\n",
       "      <th>41999</th>\n",
       "      <td>9</td>\n",
       "      <td>0</td>\n",
       "      <td>0</td>\n",
       "      <td>0</td>\n",
       "      <td>0</td>\n",
       "      <td>0</td>\n",
       "      <td>0</td>\n",
       "      <td>0</td>\n",
       "      <td>0</td>\n",
       "      <td>0</td>\n",
       "      <td>...</td>\n",
       "      <td>0</td>\n",
       "      <td>0</td>\n",
       "      <td>0</td>\n",
       "      <td>0</td>\n",
       "      <td>0</td>\n",
       "      <td>0</td>\n",
       "      <td>0</td>\n",
       "      <td>0</td>\n",
       "      <td>0</td>\n",
       "      <td>0</td>\n",
       "    </tr>\n",
       "  </tbody>\n",
       "</table>\n",
       "<p>42000 rows × 785 columns</p>\n",
       "</div>"
      ],
      "text/plain": [
       "       label  pixel0  pixel1  pixel2  pixel3  pixel4  pixel5  pixel6  pixel7  \\\n",
       "0          1       0       0       0       0       0       0       0       0   \n",
       "1          0       0       0       0       0       0       0       0       0   \n",
       "2          1       0       0       0       0       0       0       0       0   \n",
       "3          4       0       0       0       0       0       0       0       0   \n",
       "4          0       0       0       0       0       0       0       0       0   \n",
       "...      ...     ...     ...     ...     ...     ...     ...     ...     ...   \n",
       "41995      0       0       0       0       0       0       0       0       0   \n",
       "41996      1       0       0       0       0       0       0       0       0   \n",
       "41997      7       0       0       0       0       0       0       0       0   \n",
       "41998      6       0       0       0       0       0       0       0       0   \n",
       "41999      9       0       0       0       0       0       0       0       0   \n",
       "\n",
       "       pixel8  ...  pixel774  pixel775  pixel776  pixel777  pixel778  \\\n",
       "0           0  ...         0         0         0         0         0   \n",
       "1           0  ...         0         0         0         0         0   \n",
       "2           0  ...         0         0         0         0         0   \n",
       "3           0  ...         0         0         0         0         0   \n",
       "4           0  ...         0         0         0         0         0   \n",
       "...       ...  ...       ...       ...       ...       ...       ...   \n",
       "41995       0  ...         0         0         0         0         0   \n",
       "41996       0  ...         0         0         0         0         0   \n",
       "41997       0  ...         0         0         0         0         0   \n",
       "41998       0  ...         0         0         0         0         0   \n",
       "41999       0  ...         0         0         0         0         0   \n",
       "\n",
       "       pixel779  pixel780  pixel781  pixel782  pixel783  \n",
       "0             0         0         0         0         0  \n",
       "1             0         0         0         0         0  \n",
       "2             0         0         0         0         0  \n",
       "3             0         0         0         0         0  \n",
       "4             0         0         0         0         0  \n",
       "...         ...       ...       ...       ...       ...  \n",
       "41995         0         0         0         0         0  \n",
       "41996         0         0         0         0         0  \n",
       "41997         0         0         0         0         0  \n",
       "41998         0         0         0         0         0  \n",
       "41999         0         0         0         0         0  \n",
       "\n",
       "[42000 rows x 785 columns]"
      ]
     },
     "execution_count": 394,
     "metadata": {},
     "output_type": "execute_result"
    }
   ],
   "source": [
    "df"
   ]
  },
  {
   "cell_type": "code",
   "execution_count": 413,
   "metadata": {},
   "outputs": [
    {
     "data": {
      "text/html": [
       "<div>\n",
       "<style scoped>\n",
       "    .dataframe tbody tr th:only-of-type {\n",
       "        vertical-align: middle;\n",
       "    }\n",
       "\n",
       "    .dataframe tbody tr th {\n",
       "        vertical-align: top;\n",
       "    }\n",
       "\n",
       "    .dataframe thead th {\n",
       "        text-align: right;\n",
       "    }\n",
       "</style>\n",
       "<table border=\"1\" class=\"dataframe\">\n",
       "  <thead>\n",
       "    <tr style=\"text-align: right;\">\n",
       "      <th></th>\n",
       "      <th>label</th>\n",
       "      <th>pixel0</th>\n",
       "      <th>pixel1</th>\n",
       "      <th>pixel2</th>\n",
       "      <th>pixel3</th>\n",
       "      <th>pixel4</th>\n",
       "      <th>pixel5</th>\n",
       "      <th>pixel6</th>\n",
       "      <th>pixel7</th>\n",
       "      <th>pixel8</th>\n",
       "      <th>...</th>\n",
       "      <th>pixel774</th>\n",
       "      <th>pixel775</th>\n",
       "      <th>pixel776</th>\n",
       "      <th>pixel777</th>\n",
       "      <th>pixel778</th>\n",
       "      <th>pixel779</th>\n",
       "      <th>pixel780</th>\n",
       "      <th>pixel781</th>\n",
       "      <th>pixel782</th>\n",
       "      <th>pixel783</th>\n",
       "    </tr>\n",
       "  </thead>\n",
       "  <tbody>\n",
       "    <tr>\n",
       "      <th>0</th>\n",
       "      <td>1</td>\n",
       "      <td>0</td>\n",
       "      <td>0</td>\n",
       "      <td>0</td>\n",
       "      <td>0</td>\n",
       "      <td>0</td>\n",
       "      <td>0</td>\n",
       "      <td>0</td>\n",
       "      <td>0</td>\n",
       "      <td>0</td>\n",
       "      <td>...</td>\n",
       "      <td>0</td>\n",
       "      <td>0</td>\n",
       "      <td>0</td>\n",
       "      <td>0</td>\n",
       "      <td>0</td>\n",
       "      <td>0</td>\n",
       "      <td>0</td>\n",
       "      <td>0</td>\n",
       "      <td>0</td>\n",
       "      <td>0</td>\n",
       "    </tr>\n",
       "    <tr>\n",
       "      <th>1</th>\n",
       "      <td>0</td>\n",
       "      <td>0</td>\n",
       "      <td>0</td>\n",
       "      <td>0</td>\n",
       "      <td>0</td>\n",
       "      <td>0</td>\n",
       "      <td>0</td>\n",
       "      <td>0</td>\n",
       "      <td>0</td>\n",
       "      <td>0</td>\n",
       "      <td>...</td>\n",
       "      <td>0</td>\n",
       "      <td>0</td>\n",
       "      <td>0</td>\n",
       "      <td>0</td>\n",
       "      <td>0</td>\n",
       "      <td>0</td>\n",
       "      <td>0</td>\n",
       "      <td>0</td>\n",
       "      <td>0</td>\n",
       "      <td>0</td>\n",
       "    </tr>\n",
       "    <tr>\n",
       "      <th>2</th>\n",
       "      <td>1</td>\n",
       "      <td>0</td>\n",
       "      <td>0</td>\n",
       "      <td>0</td>\n",
       "      <td>0</td>\n",
       "      <td>0</td>\n",
       "      <td>0</td>\n",
       "      <td>0</td>\n",
       "      <td>0</td>\n",
       "      <td>0</td>\n",
       "      <td>...</td>\n",
       "      <td>0</td>\n",
       "      <td>0</td>\n",
       "      <td>0</td>\n",
       "      <td>0</td>\n",
       "      <td>0</td>\n",
       "      <td>0</td>\n",
       "      <td>0</td>\n",
       "      <td>0</td>\n",
       "      <td>0</td>\n",
       "      <td>0</td>\n",
       "    </tr>\n",
       "    <tr>\n",
       "      <th>3</th>\n",
       "      <td>4</td>\n",
       "      <td>0</td>\n",
       "      <td>0</td>\n",
       "      <td>0</td>\n",
       "      <td>0</td>\n",
       "      <td>0</td>\n",
       "      <td>0</td>\n",
       "      <td>0</td>\n",
       "      <td>0</td>\n",
       "      <td>0</td>\n",
       "      <td>...</td>\n",
       "      <td>0</td>\n",
       "      <td>0</td>\n",
       "      <td>0</td>\n",
       "      <td>0</td>\n",
       "      <td>0</td>\n",
       "      <td>0</td>\n",
       "      <td>0</td>\n",
       "      <td>0</td>\n",
       "      <td>0</td>\n",
       "      <td>0</td>\n",
       "    </tr>\n",
       "    <tr>\n",
       "      <th>4</th>\n",
       "      <td>0</td>\n",
       "      <td>0</td>\n",
       "      <td>0</td>\n",
       "      <td>0</td>\n",
       "      <td>0</td>\n",
       "      <td>0</td>\n",
       "      <td>0</td>\n",
       "      <td>0</td>\n",
       "      <td>0</td>\n",
       "      <td>0</td>\n",
       "      <td>...</td>\n",
       "      <td>0</td>\n",
       "      <td>0</td>\n",
       "      <td>0</td>\n",
       "      <td>0</td>\n",
       "      <td>0</td>\n",
       "      <td>0</td>\n",
       "      <td>0</td>\n",
       "      <td>0</td>\n",
       "      <td>0</td>\n",
       "      <td>0</td>\n",
       "    </tr>\n",
       "    <tr>\n",
       "      <th>...</th>\n",
       "      <td>...</td>\n",
       "      <td>...</td>\n",
       "      <td>...</td>\n",
       "      <td>...</td>\n",
       "      <td>...</td>\n",
       "      <td>...</td>\n",
       "      <td>...</td>\n",
       "      <td>...</td>\n",
       "      <td>...</td>\n",
       "      <td>...</td>\n",
       "      <td>...</td>\n",
       "      <td>...</td>\n",
       "      <td>...</td>\n",
       "      <td>...</td>\n",
       "      <td>...</td>\n",
       "      <td>...</td>\n",
       "      <td>...</td>\n",
       "      <td>...</td>\n",
       "      <td>...</td>\n",
       "      <td>...</td>\n",
       "      <td>...</td>\n",
       "    </tr>\n",
       "    <tr>\n",
       "      <th>41995</th>\n",
       "      <td>0</td>\n",
       "      <td>0</td>\n",
       "      <td>0</td>\n",
       "      <td>0</td>\n",
       "      <td>0</td>\n",
       "      <td>0</td>\n",
       "      <td>0</td>\n",
       "      <td>0</td>\n",
       "      <td>0</td>\n",
       "      <td>0</td>\n",
       "      <td>...</td>\n",
       "      <td>0</td>\n",
       "      <td>0</td>\n",
       "      <td>0</td>\n",
       "      <td>0</td>\n",
       "      <td>0</td>\n",
       "      <td>0</td>\n",
       "      <td>0</td>\n",
       "      <td>0</td>\n",
       "      <td>0</td>\n",
       "      <td>0</td>\n",
       "    </tr>\n",
       "    <tr>\n",
       "      <th>41996</th>\n",
       "      <td>1</td>\n",
       "      <td>0</td>\n",
       "      <td>0</td>\n",
       "      <td>0</td>\n",
       "      <td>0</td>\n",
       "      <td>0</td>\n",
       "      <td>0</td>\n",
       "      <td>0</td>\n",
       "      <td>0</td>\n",
       "      <td>0</td>\n",
       "      <td>...</td>\n",
       "      <td>0</td>\n",
       "      <td>0</td>\n",
       "      <td>0</td>\n",
       "      <td>0</td>\n",
       "      <td>0</td>\n",
       "      <td>0</td>\n",
       "      <td>0</td>\n",
       "      <td>0</td>\n",
       "      <td>0</td>\n",
       "      <td>0</td>\n",
       "    </tr>\n",
       "    <tr>\n",
       "      <th>41997</th>\n",
       "      <td>7</td>\n",
       "      <td>0</td>\n",
       "      <td>0</td>\n",
       "      <td>0</td>\n",
       "      <td>0</td>\n",
       "      <td>0</td>\n",
       "      <td>0</td>\n",
       "      <td>0</td>\n",
       "      <td>0</td>\n",
       "      <td>0</td>\n",
       "      <td>...</td>\n",
       "      <td>0</td>\n",
       "      <td>0</td>\n",
       "      <td>0</td>\n",
       "      <td>0</td>\n",
       "      <td>0</td>\n",
       "      <td>0</td>\n",
       "      <td>0</td>\n",
       "      <td>0</td>\n",
       "      <td>0</td>\n",
       "      <td>0</td>\n",
       "    </tr>\n",
       "    <tr>\n",
       "      <th>41998</th>\n",
       "      <td>6</td>\n",
       "      <td>0</td>\n",
       "      <td>0</td>\n",
       "      <td>0</td>\n",
       "      <td>0</td>\n",
       "      <td>0</td>\n",
       "      <td>0</td>\n",
       "      <td>0</td>\n",
       "      <td>0</td>\n",
       "      <td>0</td>\n",
       "      <td>...</td>\n",
       "      <td>0</td>\n",
       "      <td>0</td>\n",
       "      <td>0</td>\n",
       "      <td>0</td>\n",
       "      <td>0</td>\n",
       "      <td>0</td>\n",
       "      <td>0</td>\n",
       "      <td>0</td>\n",
       "      <td>0</td>\n",
       "      <td>0</td>\n",
       "    </tr>\n",
       "    <tr>\n",
       "      <th>41999</th>\n",
       "      <td>9</td>\n",
       "      <td>0</td>\n",
       "      <td>0</td>\n",
       "      <td>0</td>\n",
       "      <td>0</td>\n",
       "      <td>0</td>\n",
       "      <td>0</td>\n",
       "      <td>0</td>\n",
       "      <td>0</td>\n",
       "      <td>0</td>\n",
       "      <td>...</td>\n",
       "      <td>0</td>\n",
       "      <td>0</td>\n",
       "      <td>0</td>\n",
       "      <td>0</td>\n",
       "      <td>0</td>\n",
       "      <td>0</td>\n",
       "      <td>0</td>\n",
       "      <td>0</td>\n",
       "      <td>0</td>\n",
       "      <td>0</td>\n",
       "    </tr>\n",
       "  </tbody>\n",
       "</table>\n",
       "<p>42000 rows × 785 columns</p>\n",
       "</div>"
      ],
      "text/plain": [
       "       label  pixel0  pixel1  pixel2  pixel3  pixel4  pixel5  pixel6  pixel7  \\\n",
       "0          1       0       0       0       0       0       0       0       0   \n",
       "1          0       0       0       0       0       0       0       0       0   \n",
       "2          1       0       0       0       0       0       0       0       0   \n",
       "3          4       0       0       0       0       0       0       0       0   \n",
       "4          0       0       0       0       0       0       0       0       0   \n",
       "...      ...     ...     ...     ...     ...     ...     ...     ...     ...   \n",
       "41995      0       0       0       0       0       0       0       0       0   \n",
       "41996      1       0       0       0       0       0       0       0       0   \n",
       "41997      7       0       0       0       0       0       0       0       0   \n",
       "41998      6       0       0       0       0       0       0       0       0   \n",
       "41999      9       0       0       0       0       0       0       0       0   \n",
       "\n",
       "       pixel8  ...  pixel774  pixel775  pixel776  pixel777  pixel778  \\\n",
       "0           0  ...         0         0         0         0         0   \n",
       "1           0  ...         0         0         0         0         0   \n",
       "2           0  ...         0         0         0         0         0   \n",
       "3           0  ...         0         0         0         0         0   \n",
       "4           0  ...         0         0         0         0         0   \n",
       "...       ...  ...       ...       ...       ...       ...       ...   \n",
       "41995       0  ...         0         0         0         0         0   \n",
       "41996       0  ...         0         0         0         0         0   \n",
       "41997       0  ...         0         0         0         0         0   \n",
       "41998       0  ...         0         0         0         0         0   \n",
       "41999       0  ...         0         0         0         0         0   \n",
       "\n",
       "       pixel779  pixel780  pixel781  pixel782  pixel783  \n",
       "0             0         0         0         0         0  \n",
       "1             0         0         0         0         0  \n",
       "2             0         0         0         0         0  \n",
       "3             0         0         0         0         0  \n",
       "4             0         0         0         0         0  \n",
       "...         ...       ...       ...       ...       ...  \n",
       "41995         0         0         0         0         0  \n",
       "41996         0         0         0         0         0  \n",
       "41997         0         0         0         0         0  \n",
       "41998         0         0         0         0         0  \n",
       "41999         0         0         0         0         0  \n",
       "\n",
       "[42000 rows x 785 columns]"
      ]
     },
     "execution_count": 413,
     "metadata": {},
     "output_type": "execute_result"
    }
   ],
   "source": [
    "df"
   ]
  },
  {
   "cell_type": "code",
   "execution_count": 445,
   "metadata": {
    "scrolled": false
   },
   "outputs": [
    {
     "name": "stdout",
     "output_type": "stream",
     "text": [
      "0\n",
      "45264183.0\n",
      "1\n",
      "11657527.0\n",
      "2\n",
      "41706609.0\n",
      "3\n",
      "19749352.0\n",
      "4\n",
      "42458002.0\n",
      "5\n",
      "34975038.0\n",
      "6\n",
      "39837674.0\n",
      "7\n",
      "42951459.0\n",
      "8\n",
      "20915833.0\n",
      "9\n",
      "23071358.0\n"
     ]
    }
   ],
   "source": [
    "df_corr = pd.DataFrame()\n",
    "for l in range(10):\n",
    "    print(l)\n",
    "    df_l = df[df.label==l]\n",
    "    #print(df_l.head())\n",
    "    df_l_final = pd.DataFrame(np.zeros([df_l.shape[0],df_l.shape[1]]))\n",
    "    df_l_final.columns = df_l.columns\n",
    "    #df_l_final['label'] = l\n",
    "    #print(df_l_final.head())\n",
    "    for i in range(df_l.shape[0]):\n",
    "        mat = df_l.iloc[i].filter(like='pixel').to_numpy().reshape(-1,28,28)\n",
    "        df_l_final.iloc[i]= np.append(l,np.matmul(mat,mat.T).flatten())\n",
    "        #print(df_l_final.iloc[0].sum())\n",
    "    print(df_l_final.iloc[i][1:].sum())\n",
    "    df_corr = df_corr.append(df_l_final)"
   ]
  },
  {
   "cell_type": "code",
   "execution_count": null,
   "metadata": {},
   "outputs": [],
   "source": []
  },
  {
   "cell_type": "code",
   "execution_count": 406,
   "metadata": {},
   "outputs": [
    {
     "data": {
      "text/html": [
       "<div>\n",
       "<style scoped>\n",
       "    .dataframe tbody tr th:only-of-type {\n",
       "        vertical-align: middle;\n",
       "    }\n",
       "\n",
       "    .dataframe tbody tr th {\n",
       "        vertical-align: top;\n",
       "    }\n",
       "\n",
       "    .dataframe thead th {\n",
       "        text-align: right;\n",
       "    }\n",
       "</style>\n",
       "<table border=\"1\" class=\"dataframe\">\n",
       "  <thead>\n",
       "    <tr style=\"text-align: right;\">\n",
       "      <th></th>\n",
       "      <th>label</th>\n",
       "      <th>pixel0</th>\n",
       "      <th>pixel1</th>\n",
       "      <th>pixel2</th>\n",
       "      <th>pixel3</th>\n",
       "      <th>pixel4</th>\n",
       "      <th>pixel5</th>\n",
       "      <th>pixel6</th>\n",
       "      <th>pixel7</th>\n",
       "      <th>pixel8</th>\n",
       "      <th>...</th>\n",
       "      <th>pixel774</th>\n",
       "      <th>pixel775</th>\n",
       "      <th>pixel776</th>\n",
       "      <th>pixel777</th>\n",
       "      <th>pixel778</th>\n",
       "      <th>pixel779</th>\n",
       "      <th>pixel780</th>\n",
       "      <th>pixel781</th>\n",
       "      <th>pixel782</th>\n",
       "      <th>pixel783</th>\n",
       "    </tr>\n",
       "  </thead>\n",
       "  <tbody>\n",
       "    <tr>\n",
       "      <th>0</th>\n",
       "      <td>0</td>\n",
       "      <td>0.0</td>\n",
       "      <td>0.0</td>\n",
       "      <td>0.0</td>\n",
       "      <td>0.0</td>\n",
       "      <td>0.0</td>\n",
       "      <td>0.0</td>\n",
       "      <td>0.0</td>\n",
       "      <td>0.0</td>\n",
       "      <td>0.0</td>\n",
       "      <td>...</td>\n",
       "      <td>0.0</td>\n",
       "      <td>0.0</td>\n",
       "      <td>0.0</td>\n",
       "      <td>0.0</td>\n",
       "      <td>0.0</td>\n",
       "      <td>0.0</td>\n",
       "      <td>0.0</td>\n",
       "      <td>0.0</td>\n",
       "      <td>0.0</td>\n",
       "      <td>0.0</td>\n",
       "    </tr>\n",
       "    <tr>\n",
       "      <th>1</th>\n",
       "      <td>0</td>\n",
       "      <td>0.0</td>\n",
       "      <td>0.0</td>\n",
       "      <td>0.0</td>\n",
       "      <td>0.0</td>\n",
       "      <td>0.0</td>\n",
       "      <td>0.0</td>\n",
       "      <td>0.0</td>\n",
       "      <td>0.0</td>\n",
       "      <td>0.0</td>\n",
       "      <td>...</td>\n",
       "      <td>0.0</td>\n",
       "      <td>0.0</td>\n",
       "      <td>0.0</td>\n",
       "      <td>0.0</td>\n",
       "      <td>0.0</td>\n",
       "      <td>0.0</td>\n",
       "      <td>0.0</td>\n",
       "      <td>0.0</td>\n",
       "      <td>0.0</td>\n",
       "      <td>0.0</td>\n",
       "    </tr>\n",
       "    <tr>\n",
       "      <th>2</th>\n",
       "      <td>0</td>\n",
       "      <td>0.0</td>\n",
       "      <td>0.0</td>\n",
       "      <td>0.0</td>\n",
       "      <td>0.0</td>\n",
       "      <td>0.0</td>\n",
       "      <td>0.0</td>\n",
       "      <td>0.0</td>\n",
       "      <td>0.0</td>\n",
       "      <td>0.0</td>\n",
       "      <td>...</td>\n",
       "      <td>0.0</td>\n",
       "      <td>0.0</td>\n",
       "      <td>0.0</td>\n",
       "      <td>0.0</td>\n",
       "      <td>0.0</td>\n",
       "      <td>0.0</td>\n",
       "      <td>0.0</td>\n",
       "      <td>0.0</td>\n",
       "      <td>0.0</td>\n",
       "      <td>0.0</td>\n",
       "    </tr>\n",
       "    <tr>\n",
       "      <th>3</th>\n",
       "      <td>0</td>\n",
       "      <td>0.0</td>\n",
       "      <td>0.0</td>\n",
       "      <td>0.0</td>\n",
       "      <td>0.0</td>\n",
       "      <td>0.0</td>\n",
       "      <td>0.0</td>\n",
       "      <td>0.0</td>\n",
       "      <td>0.0</td>\n",
       "      <td>0.0</td>\n",
       "      <td>...</td>\n",
       "      <td>0.0</td>\n",
       "      <td>0.0</td>\n",
       "      <td>0.0</td>\n",
       "      <td>0.0</td>\n",
       "      <td>0.0</td>\n",
       "      <td>0.0</td>\n",
       "      <td>0.0</td>\n",
       "      <td>0.0</td>\n",
       "      <td>0.0</td>\n",
       "      <td>0.0</td>\n",
       "    </tr>\n",
       "    <tr>\n",
       "      <th>4</th>\n",
       "      <td>0</td>\n",
       "      <td>0.0</td>\n",
       "      <td>0.0</td>\n",
       "      <td>0.0</td>\n",
       "      <td>0.0</td>\n",
       "      <td>0.0</td>\n",
       "      <td>0.0</td>\n",
       "      <td>0.0</td>\n",
       "      <td>0.0</td>\n",
       "      <td>0.0</td>\n",
       "      <td>...</td>\n",
       "      <td>0.0</td>\n",
       "      <td>0.0</td>\n",
       "      <td>0.0</td>\n",
       "      <td>0.0</td>\n",
       "      <td>0.0</td>\n",
       "      <td>0.0</td>\n",
       "      <td>0.0</td>\n",
       "      <td>0.0</td>\n",
       "      <td>0.0</td>\n",
       "      <td>0.0</td>\n",
       "    </tr>\n",
       "    <tr>\n",
       "      <th>...</th>\n",
       "      <td>...</td>\n",
       "      <td>...</td>\n",
       "      <td>...</td>\n",
       "      <td>...</td>\n",
       "      <td>...</td>\n",
       "      <td>...</td>\n",
       "      <td>...</td>\n",
       "      <td>...</td>\n",
       "      <td>...</td>\n",
       "      <td>...</td>\n",
       "      <td>...</td>\n",
       "      <td>...</td>\n",
       "      <td>...</td>\n",
       "      <td>...</td>\n",
       "      <td>...</td>\n",
       "      <td>...</td>\n",
       "      <td>...</td>\n",
       "      <td>...</td>\n",
       "      <td>...</td>\n",
       "      <td>...</td>\n",
       "      <td>...</td>\n",
       "    </tr>\n",
       "    <tr>\n",
       "      <th>4183</th>\n",
       "      <td>9</td>\n",
       "      <td>0.0</td>\n",
       "      <td>0.0</td>\n",
       "      <td>0.0</td>\n",
       "      <td>0.0</td>\n",
       "      <td>0.0</td>\n",
       "      <td>0.0</td>\n",
       "      <td>0.0</td>\n",
       "      <td>0.0</td>\n",
       "      <td>0.0</td>\n",
       "      <td>...</td>\n",
       "      <td>0.0</td>\n",
       "      <td>0.0</td>\n",
       "      <td>0.0</td>\n",
       "      <td>0.0</td>\n",
       "      <td>0.0</td>\n",
       "      <td>0.0</td>\n",
       "      <td>0.0</td>\n",
       "      <td>0.0</td>\n",
       "      <td>0.0</td>\n",
       "      <td>0.0</td>\n",
       "    </tr>\n",
       "    <tr>\n",
       "      <th>4184</th>\n",
       "      <td>9</td>\n",
       "      <td>0.0</td>\n",
       "      <td>0.0</td>\n",
       "      <td>0.0</td>\n",
       "      <td>0.0</td>\n",
       "      <td>0.0</td>\n",
       "      <td>0.0</td>\n",
       "      <td>0.0</td>\n",
       "      <td>0.0</td>\n",
       "      <td>0.0</td>\n",
       "      <td>...</td>\n",
       "      <td>0.0</td>\n",
       "      <td>0.0</td>\n",
       "      <td>0.0</td>\n",
       "      <td>0.0</td>\n",
       "      <td>0.0</td>\n",
       "      <td>0.0</td>\n",
       "      <td>0.0</td>\n",
       "      <td>0.0</td>\n",
       "      <td>0.0</td>\n",
       "      <td>0.0</td>\n",
       "    </tr>\n",
       "    <tr>\n",
       "      <th>4185</th>\n",
       "      <td>9</td>\n",
       "      <td>0.0</td>\n",
       "      <td>0.0</td>\n",
       "      <td>0.0</td>\n",
       "      <td>0.0</td>\n",
       "      <td>0.0</td>\n",
       "      <td>0.0</td>\n",
       "      <td>0.0</td>\n",
       "      <td>0.0</td>\n",
       "      <td>0.0</td>\n",
       "      <td>...</td>\n",
       "      <td>0.0</td>\n",
       "      <td>0.0</td>\n",
       "      <td>0.0</td>\n",
       "      <td>0.0</td>\n",
       "      <td>0.0</td>\n",
       "      <td>0.0</td>\n",
       "      <td>0.0</td>\n",
       "      <td>0.0</td>\n",
       "      <td>0.0</td>\n",
       "      <td>0.0</td>\n",
       "    </tr>\n",
       "    <tr>\n",
       "      <th>4186</th>\n",
       "      <td>9</td>\n",
       "      <td>0.0</td>\n",
       "      <td>0.0</td>\n",
       "      <td>0.0</td>\n",
       "      <td>0.0</td>\n",
       "      <td>0.0</td>\n",
       "      <td>0.0</td>\n",
       "      <td>0.0</td>\n",
       "      <td>0.0</td>\n",
       "      <td>0.0</td>\n",
       "      <td>...</td>\n",
       "      <td>0.0</td>\n",
       "      <td>0.0</td>\n",
       "      <td>0.0</td>\n",
       "      <td>0.0</td>\n",
       "      <td>0.0</td>\n",
       "      <td>0.0</td>\n",
       "      <td>0.0</td>\n",
       "      <td>0.0</td>\n",
       "      <td>0.0</td>\n",
       "      <td>0.0</td>\n",
       "    </tr>\n",
       "    <tr>\n",
       "      <th>4187</th>\n",
       "      <td>9</td>\n",
       "      <td>0.0</td>\n",
       "      <td>0.0</td>\n",
       "      <td>0.0</td>\n",
       "      <td>0.0</td>\n",
       "      <td>0.0</td>\n",
       "      <td>0.0</td>\n",
       "      <td>0.0</td>\n",
       "      <td>0.0</td>\n",
       "      <td>0.0</td>\n",
       "      <td>...</td>\n",
       "      <td>0.0</td>\n",
       "      <td>0.0</td>\n",
       "      <td>0.0</td>\n",
       "      <td>0.0</td>\n",
       "      <td>0.0</td>\n",
       "      <td>0.0</td>\n",
       "      <td>0.0</td>\n",
       "      <td>0.0</td>\n",
       "      <td>0.0</td>\n",
       "      <td>0.0</td>\n",
       "    </tr>\n",
       "  </tbody>\n",
       "</table>\n",
       "<p>42000 rows × 785 columns</p>\n",
       "</div>"
      ],
      "text/plain": [
       "      label  pixel0  pixel1  pixel2  pixel3  pixel4  pixel5  pixel6  pixel7  \\\n",
       "0         0     0.0     0.0     0.0     0.0     0.0     0.0     0.0     0.0   \n",
       "1         0     0.0     0.0     0.0     0.0     0.0     0.0     0.0     0.0   \n",
       "2         0     0.0     0.0     0.0     0.0     0.0     0.0     0.0     0.0   \n",
       "3         0     0.0     0.0     0.0     0.0     0.0     0.0     0.0     0.0   \n",
       "4         0     0.0     0.0     0.0     0.0     0.0     0.0     0.0     0.0   \n",
       "...     ...     ...     ...     ...     ...     ...     ...     ...     ...   \n",
       "4183      9     0.0     0.0     0.0     0.0     0.0     0.0     0.0     0.0   \n",
       "4184      9     0.0     0.0     0.0     0.0     0.0     0.0     0.0     0.0   \n",
       "4185      9     0.0     0.0     0.0     0.0     0.0     0.0     0.0     0.0   \n",
       "4186      9     0.0     0.0     0.0     0.0     0.0     0.0     0.0     0.0   \n",
       "4187      9     0.0     0.0     0.0     0.0     0.0     0.0     0.0     0.0   \n",
       "\n",
       "      pixel8  ...  pixel774  pixel775  pixel776  pixel777  pixel778  pixel779  \\\n",
       "0        0.0  ...       0.0       0.0       0.0       0.0       0.0       0.0   \n",
       "1        0.0  ...       0.0       0.0       0.0       0.0       0.0       0.0   \n",
       "2        0.0  ...       0.0       0.0       0.0       0.0       0.0       0.0   \n",
       "3        0.0  ...       0.0       0.0       0.0       0.0       0.0       0.0   \n",
       "4        0.0  ...       0.0       0.0       0.0       0.0       0.0       0.0   \n",
       "...      ...  ...       ...       ...       ...       ...       ...       ...   \n",
       "4183     0.0  ...       0.0       0.0       0.0       0.0       0.0       0.0   \n",
       "4184     0.0  ...       0.0       0.0       0.0       0.0       0.0       0.0   \n",
       "4185     0.0  ...       0.0       0.0       0.0       0.0       0.0       0.0   \n",
       "4186     0.0  ...       0.0       0.0       0.0       0.0       0.0       0.0   \n",
       "4187     0.0  ...       0.0       0.0       0.0       0.0       0.0       0.0   \n",
       "\n",
       "      pixel780  pixel781  pixel782  pixel783  \n",
       "0          0.0       0.0       0.0       0.0  \n",
       "1          0.0       0.0       0.0       0.0  \n",
       "2          0.0       0.0       0.0       0.0  \n",
       "3          0.0       0.0       0.0       0.0  \n",
       "4          0.0       0.0       0.0       0.0  \n",
       "...        ...       ...       ...       ...  \n",
       "4183       0.0       0.0       0.0       0.0  \n",
       "4184       0.0       0.0       0.0       0.0  \n",
       "4185       0.0       0.0       0.0       0.0  \n",
       "4186       0.0       0.0       0.0       0.0  \n",
       "4187       0.0       0.0       0.0       0.0  \n",
       "\n",
       "[42000 rows x 785 columns]"
      ]
     },
     "execution_count": 406,
     "metadata": {},
     "output_type": "execute_result"
    }
   ],
   "source": [
    "df_corr"
   ]
  },
  {
   "cell_type": "code",
   "execution_count": 556,
   "metadata": {},
   "outputs": [
    {
     "data": {
      "text/plain": [
       "777     8.0\n",
       "825     5.0\n",
       "930     6.0\n",
       "770     3.0\n",
       "1572    5.0\n",
       "2570    9.0\n",
       "113     6.0\n",
       "2112    2.0\n",
       "692     4.0\n",
       "709     9.0\n",
       "2721    6.0\n",
       "1707    8.0\n",
       "527     6.0\n",
       "4044    7.0\n",
       "4467    1.0\n",
       "463     7.0\n",
       "Name: label, dtype: float64"
      ]
     },
     "execution_count": 556,
     "metadata": {},
     "output_type": "execute_result"
    }
   ],
   "source": [
    "df_corr['label'].iloc[l]"
   ]
  },
  {
   "cell_type": "code",
   "execution_count": 559,
   "metadata": {},
   "outputs": [
    {
     "data": {
      "image/png": "[encoded data removed]",
      "text/plain": [
       "<Figure size 720x720 with 16 Axes>"
      ]
     },
     "metadata": {},
     "output_type": "display_data"
    }
   ],
   "source": [
    "labels = df_corr['label']\n",
    "l = np.random.randint(df_corr.shape[0],size = 16)\n",
    "plt_labels = df_corr['label'].iloc[l]\n",
    "plt_images = df_corr.iloc[l].filter(like='pixel').to_numpy().reshape(-1, 28, 28, 1)\n",
    "fig, axes = plt.subplots(nrows=4, ncols=4, figsize=(10, 10))\n",
    "for image, label, ax in zip(plt_images, plt_labels, axes.ravel()):\n",
    "    ax.imshow(image,cmap='gray')\n",
    "    ax.set(title=label, xticks=[], yticks=[])"
   ]
  },
  {
   "cell_type": "code",
   "execution_count": 463,
   "metadata": {},
   "outputs": [
    {
     "data": {
      "text/plain": [
       "<matplotlib.image.AxesImage at 0x7fd9e4134160>"
      ]
     },
     "execution_count": 463,
     "metadata": {},
     "output_type": "execute_result"
    },
    {
     "data": {
      "image/png": "[encoded data removed]",
      "text/plain": [
       "<Figure size 432x288 with 1 Axes>"
      ]
     },
     "metadata": {
      "needs_background": "light"
     },
     "output_type": "display_data"
    }
   ],
   "source": [
    "plt.imshow(df_corr.iloc[35000].filter(like='pixel').to_numpy().reshape(-1,28,28)[0])"
   ]
  },
  {
   "cell_type": "code",
   "execution_count": 653,
   "metadata": {},
   "outputs": [
    {
     "ename": "NameError",
     "evalue": "name 'RandomForestRegressor' is not defined",
     "output_type": "error",
     "traceback": [
      "\u001b[0;31m---------------------------------------------------------------------------\u001b[0m",
      "\u001b[0;31mNameError\u001b[0m                                 Traceback (most recent call last)",
      "\u001b[0;32m<ipython-input-653-b262037c1400>\u001b[0m in \u001b[0;36m<module>\u001b[0;34m\u001b[0m\n\u001b[1;32m      5\u001b[0m \u001b[0mX_train\u001b[0m\u001b[0;34m,\u001b[0m \u001b[0mX_test\u001b[0m\u001b[0;34m,\u001b[0m \u001b[0my_train\u001b[0m\u001b[0;34m,\u001b[0m \u001b[0my_test\u001b[0m \u001b[0;34m=\u001b[0m \u001b[0mtrain_test_split\u001b[0m\u001b[0;34m(\u001b[0m\u001b[0mX\u001b[0m\u001b[0;34m,\u001b[0m \u001b[0my\u001b[0m\u001b[0;34m,\u001b[0m \u001b[0mtest_size\u001b[0m\u001b[0;34m=\u001b[0m\u001b[0;36m0.2\u001b[0m\u001b[0;34m,\u001b[0m\u001b[0mrandom_state\u001b[0m\u001b[0;34m=\u001b[0m\u001b[0;36m42\u001b[0m\u001b[0;34m)\u001b[0m\u001b[0;34m\u001b[0m\u001b[0;34m\u001b[0m\u001b[0m\n\u001b[1;32m      6\u001b[0m \u001b[0;34m\u001b[0m\u001b[0m\n\u001b[0;32m----> 7\u001b[0;31m \u001b[0mrf\u001b[0m \u001b[0;34m=\u001b[0m \u001b[0mRandomForestRegressor\u001b[0m\u001b[0;34m(\u001b[0m\u001b[0;34m)\u001b[0m\u001b[0;34m\u001b[0m\u001b[0;34m\u001b[0m\u001b[0m\n\u001b[0m\u001b[1;32m      8\u001b[0m rf_param_grid = {\n\u001b[1;32m      9\u001b[0m             \u001b[0;34m'n_estimators'\u001b[0m\u001b[0;34m:\u001b[0m \u001b[0;34m[\u001b[0m\u001b[0;36m100\u001b[0m\u001b[0;34m]\u001b[0m\u001b[0;34m,\u001b[0m\u001b[0;34m\u001b[0m\u001b[0;34m\u001b[0m\u001b[0m\n",
      "\u001b[0;31mNameError\u001b[0m: name 'RandomForestRegressor' is not defined"
     ]
    }
   ],
   "source": [
    "start_time = time.time()\n",
    "y = df_corr['label']\n",
    "scaler = StandardScaler()\n",
    "X = scaler.fit_transform(df_corr.drop(['label'],axis=1))\n",
    "X_train, X_test, y_train, y_test = train_test_split(X, y, test_size=0.2,random_state=42)\n",
    "\n",
    "rf = RandomForestRegressor()\n",
    "rf_param_grid = {\n",
    "            'n_estimators': [100],\n",
    "            'criterion': ['gini', 'entropy'],\n",
    "            'max_depth': [None, 2, 3, 5,10],\n",
    "            'min_samples_split': [None,5,10],\n",
    "            'min_samples_leaf': [None,3,5],\n",
    "        }\n",
    "rf_grid_search = GridSearchCV(rf, rf_param_grid, cv=5,n_jobs=-1)\n",
    "rf_grid_search.fit(X_train, y_train)\n",
    "print(f\"Training Accuracy: {rf_grid_search.best_score_ :.2%}\")\n",
    "print(\"\")\n",
    "print(f\"Optimal Parameters: {rf_grid_search.best_params_}\")\n",
    "\n",
    "\n",
    "print(time.time()-start_time)"
   ]
  },
  {
   "cell_type": "markdown",
   "metadata": {},
   "source": [
    "## SVM"
   ]
  },
  {
   "cell_type": "code",
   "execution_count": 466,
   "metadata": {},
   "outputs": [
    {
     "name": "stdout",
     "output_type": "stream",
     "text": [
      "{'accuracy': 0.9655952380952381}\n",
      "19967.788126945496\n"
     ]
    }
   ],
   "source": [
    "start_time = time.time()\n",
    "y = df['label']\n",
    "scaler = StandardScaler()\n",
    "X = scaler.fit_transform(df.drop(['label'],axis=1))\n",
    "X_train, X_test, y_train, y_test = train_test_split(X, y, test_size=0.2,random_state=42)\n",
    "\n",
    "svm_clf = svm.SVC(kernel='rbf')\n",
    "#r_range =  np.array([0.25,0.5, 1,2,4])\n",
    "gamma_range =  ['auto','scale']\n",
    "C_range = [0.01,0.1,1,10,100]\n",
    "#d_range = np.array([2,3, 4])\n",
    "param_grid = dict(C = C_range, gamma=gamma_range,probability = [True])\n",
    "svm_grid_search = GridSearchCV(svm_clf, param_grid, cv=5,n_jobs=-1)\n",
    "svm_grid_search.fit(X_train, y_train)\n",
    "best_svm = svm_grid_search.best_params_\n",
    "y_hat_test_svm = svm_grid_search.predict(X_test)\n",
    "svm_proba = svm_grid_search.predict_proba(X_test)\n",
    "SVM_poly_dict = {'accuracy':accuracy_score(y_hat_test_svm,y_test)}\n",
    "print(SVM_poly_dict)\n",
    "print(time.time()-start_time)"
   ]
  },
  {
   "cell_type": "code",
   "execution_count": null,
   "metadata": {},
   "outputs": [],
   "source": [
    "#### SVM took 20,000 secs to run and gives an accuracy of 0.965"
   ]
  },
  {
   "cell_type": "code",
   "execution_count": 467,
   "metadata": {},
   "outputs": [],
   "source": [
    "prediction = svm_grid_search.predict(scaler.fit_transform(df_test))\n",
    "prediction_df = pd.DataFrame(data = zip(np.arange(1,28001),prediction),\n",
    "                  columns = ['ImageId','Label'])\n",
    "prediction_df.to_csv('submission_svm.csv',index=False)"
   ]
  },
  {
   "cell_type": "markdown",
   "metadata": {},
   "source": [
    "## SVD"
   ]
  },
  {
   "cell_type": "markdown",
   "metadata": {},
   "source": [
    "### Performing SVD"
   ]
  },
  {
   "cell_type": "code",
   "execution_count": 513,
   "metadata": {},
   "outputs": [
    {
     "data": {
      "text/plain": [
       "<matplotlib.image.AxesImage at 0x7fd8e0c137c0>"
      ]
     },
     "execution_count": 513,
     "metadata": {},
     "output_type": "execute_result"
    },
    {
     "data": {
      "image/png": "[encoded data removed]",
      "text/plain": [
       "<Figure size 432x288 with 1 Axes>"
      ]
     },
     "metadata": {
      "needs_background": "light"
     },
     "output_type": "display_data"
    }
   ],
   "source": [
    "y = df['label']\n",
    "digits = df.drop(['label'],axis=1).to_numpy().T/255\n",
    "digitsavg = np.mean(digits,axis=1)\n",
    "\n",
    "XPCA = digits - np.tile(digitsavg.reshape(-1,1).T,(digits.shape[1],1)).T\n",
    "plt.imshow(digitsavg.reshape(28,28))"
   ]
  },
  {
   "cell_type": "code",
   "execution_count": 566,
   "metadata": {},
   "outputs": [
    {
     "data": {
      "text/plain": [
       "349"
      ]
     },
     "execution_count": 566,
     "metadata": {},
     "output_type": "execute_result"
    }
   ],
   "source": [
    "(S[:700].cumsum()/S[:700].sum()< 0.90).sum()"
   ]
  },
  {
   "cell_type": "code",
   "execution_count": 562,
   "metadata": {},
   "outputs": [
    {
     "data": {
      "text/plain": [
       "Text(0, 0.5, 'variance')"
      ]
     },
     "execution_count": 562,
     "metadata": {},
     "output_type": "execute_result"
    },
    {
     "data": {
      "image/png": "[encoded data removed]",
      "text/plain": [
       "<Figure size 432x288 with 1 Axes>"
      ]
     },
     "metadata": {
      "needs_background": "light"
     },
     "output_type": "display_data"
    }
   ],
   "source": [
    "U,S,VT = np.linalg.svd(XPCA,full_matrices=0)\n",
    "\n",
    "plt.plot(S[:700].cumsum()/S[:700].sum())\n",
    "plt.yscale('log')\n",
    "plt.xlim([0,700])\n",
    "plt.xlabel('nfeatures')\n",
    "plt.ylabel('variance')"
   ]
  },
  {
   "cell_type": "code",
   "execution_count": null,
   "metadata": {},
   "outputs": [],
   "source": [
    "### Visulally maybe first 200 enties will suffice. Let's check it out by reconstructing"
   ]
  },
  {
   "cell_type": "code",
   "execution_count": 517,
   "metadata": {},
   "outputs": [
    {
     "data": {
      "image/png": "[encoded data removed]",
      "text/plain": [
       "<Figure size 1440x288 with 4 Axes>"
      ]
     },
     "metadata": {
      "needs_background": "light"
     },
     "output_type": "display_data"
    }
   ],
   "source": [
    "fig, ax = plt.subplots(nrows=1, ncols=4, figsize=(20, 4))\n",
    "for ix,r in enumerate([10,100,200,784]):\n",
    "    ax[ix].imshow((U[:,:r] @U[:,:r].T @XPCA[:,5]+ digitsavg).reshape(28,28))"
   ]
  },
  {
   "cell_type": "code",
   "execution_count": 534,
   "metadata": {},
   "outputs": [],
   "source": [
    "r = 200\n",
    "X = scaler.fit_transform((U[:,:r].T @ XPCA).T)"
   ]
  },
  {
   "cell_type": "markdown",
   "metadata": {},
   "source": [
    "#### Running RF on SVD dataset"
   ]
  },
  {
   "cell_type": "code",
   "execution_count": 533,
   "metadata": {},
   "outputs": [
    {
     "name": "stderr",
     "output_type": "stream",
     "text": [
      "/Users/akshayghalsasi/opt/anaconda3/lib/python3.8/site-packages/joblib/externals/loky/process_executor.py:688: UserWarning: A worker stopped while some jobs were given to the executor. This can be caused by a too short worker timeout or by a memory leak.\n",
      "  warnings.warn(\n"
     ]
    },
    {
     "name": "stdout",
     "output_type": "stream",
     "text": [
      "Training Accuracy: 89.82%\n",
      "\n",
      "Optimal Parameters: {'criterion': 'entropy', 'max_depth': None, 'min_samples_leaf': 3, 'min_samples_split': 5, 'n_estimators': 100}\n",
      "{'accuracy': 0.9147619047619048}\n",
      "609.6415529251099\n"
     ]
    }
   ],
   "source": [
    "start_time = time.time()\n",
    "X_train, X_test, y_train, y_test = train_test_split(X, y, test_size=0.2)\n",
    "\n",
    "rf_clf = RandomForestClassifier()\n",
    "rf_param_grid = {\n",
    "            'n_estimators': [100],\n",
    "            'criterion': ['gini', 'entropy'],\n",
    "            'max_depth': [None, 2, 3, 5,10],\n",
    "            'min_samples_split': [None,5,10],\n",
    "            'min_samples_leaf': [None,3,5]\n",
    "        }\n",
    "rf_grid_search = GridSearchCV(rf_clf, rf_param_grid, cv=2,n_jobs=-1)\n",
    "rf_grid_search.fit(X_train, y_train)\n",
    "print(f\"Training Accuracy: {rf_grid_search.best_score_ :.2%}\")\n",
    "print(\"\")\n",
    "print(f\"Optimal Parameters: {rf_grid_search.best_params_}\")\n",
    "best_rf = rf_grid_search.best_params_\n",
    "\n",
    "y_hat_test_RF = rf_grid_search.predict(X_test)\n",
    "RF_dict = {'accuracy':accuracy_score(y_hat_test_RF,y_test)}\n",
    "print(RF_dict)\n",
    "\n",
    "\n",
    "\n",
    "accuracy_score(y_hat_test_RF,y_test)\n",
    "\n",
    "print(time.time()-start_time)"
   ]
  },
  {
   "cell_type": "code",
   "execution_count": null,
   "metadata": {},
   "outputs": [],
   "source": [
    "#### Running SVM on transformed data"
   ]
  },
  {
   "cell_type": "code",
   "execution_count": 545,
   "metadata": {},
   "outputs": [
    {
     "data": {
      "image/png": "[encoded data removed]",
      "text/plain": [
       "<Figure size 432x288 with 1 Axes>"
      ]
     },
     "metadata": {
      "needs_background": "light"
     },
     "output_type": "display_data"
    }
   ],
   "source": [
    "digits_sub = df_test.to_numpy().T/255\n",
    "digitsavg_sub = np.mean(digits_sub,axis=1)\n",
    "\n",
    "XPCA_sub = digits_sub - np.tile(digitsavg_sub.reshape(-1,1).T,(digits_sub.shape[1],1)).T\n",
    "plt.imshow(digitsavg_sub.reshape(28,28))\n",
    "X_sub = scaler.fit_transform((U[:,:r].T @ XPCA_sub).T)"
   ]
  },
  {
   "cell_type": "code",
   "execution_count": 546,
   "metadata": {},
   "outputs": [
    {
     "data": {
      "text/plain": [
       "(28000, 200)"
      ]
     },
     "execution_count": 546,
     "metadata": {},
     "output_type": "execute_result"
    }
   ],
   "source": [
    "X_sub.shape"
   ]
  },
  {
   "cell_type": "code",
   "execution_count": 536,
   "metadata": {},
   "outputs": [
    {
     "name": "stdout",
     "output_type": "stream",
     "text": [
      "{'accuracy': 0.9721428571428572}\n",
      "2749.6019399166107\n"
     ]
    }
   ],
   "source": [
    "start_time = time.time()\n",
    "X_train, X_test, y_train, y_test = train_test_split(X, y, test_size=0.2,random_state=42)\n",
    "\n",
    "svm_clf = svm.SVC(kernel='rbf')\n",
    "#r_range =  np.array([0.25,0.5, 1,2,4])\n",
    "gamma_range =  ['auto','scale']\n",
    "C_range = [0.01,0.1,1,10,100]\n",
    "#d_range = np.array([2,3, 4])\n",
    "param_grid = dict(C = C_range, gamma=gamma_range,probability = [True])\n",
    "svm_grid_search = GridSearchCV(svm_clf, param_grid, cv=2,n_jobs=-1)\n",
    "svm_grid_search.fit(X_train, y_train)\n",
    "best_svm = svm_grid_search.best_params_\n",
    "y_hat_test_svm = svm_grid_search.predict(X_test)\n",
    "svm_proba_SVD_200 = svm_grid_search.predict_proba(X_test)\n",
    "SVM_poly_dict = {'accuracy':accuracy_score(y_hat_test_svm,y_test)}\n",
    "print(SVM_poly_dict)\n",
    "print(time.time()-start_time)"
   ]
  },
  {
   "cell_type": "code",
   "execution_count": 547,
   "metadata": {},
   "outputs": [],
   "source": [
    "prediction = svm_grid_search.predict(scaler.fit_transform(X_sub))\n",
    "prediction_df = pd.DataFrame(data = zip(np.arange(1,28001),prediction),\n",
    "                  columns = ['ImageId','Label'])\n",
    "prediction_df.to_csv('submission_svm.csv',index=False)"
   ]
  },
  {
   "cell_type": "markdown",
   "metadata": {},
   "source": [
    "### XGB"
   ]
  },
  {
   "cell_type": "code",
   "execution_count": 549,
   "metadata": {},
   "outputs": [
    {
     "name": "stderr",
     "output_type": "stream",
     "text": [
      "/Users/akshayghalsasi/opt/anaconda3/lib/python3.8/site-packages/joblib/externals/loky/process_executor.py:688: UserWarning: A worker stopped while some jobs were given to the executor. This can be caused by a too short worker timeout or by a memory leak.\n",
      "  warnings.warn(\n"
     ]
    },
    {
     "name": "stdout",
     "output_type": "stream",
     "text": [
      "Training Accuracy: 93.41%\n",
      "\n",
      "Optimal Parameters: {'learning_rate': 0.1, 'max_depth': 8, 'n_estimators': 100}\n",
      "{'accuracy': 0.9483333333333334}\n",
      "4366.7500920295715\n"
     ]
    }
   ],
   "source": [
    "start_time = time.time()\n",
    "X_train, X_test, y_train, y_test = train_test_split(X, y, test_size=0.2,random_state=42)\n",
    "\n",
    "estimator = XGBClassifier(\n",
    "objective= 'multi:softmax',\n",
    "        nthread=2,\n",
    "        seed=42)\n",
    "parameters = {\n",
    "            'max_depth': range (2, 10, 2),\n",
    "            'n_estimators': range(20, 120, 20),\n",
    "            'learning_rate': [0.001,0.01, 0.1]\n",
    "        }\n",
    "xgb_grid_search = GridSearchCV(\n",
    "            estimator=estimator,\n",
    "            param_grid=parameters,\n",
    "            n_jobs = -1,\n",
    "            cv = 2,\n",
    "            verbose=False\n",
    "        )\n",
    "xgb_grid_search.fit(X_train, y_train)\n",
    "print(f\"Training Accuracy: {xgb_grid_search.best_score_ :.2%}\")\n",
    "print(\"\")\n",
    "print(f\"Optimal Parameters: {xgb_grid_search.best_params_}\")\n",
    "xgb_best = xgb_grid_search.best_params_\n",
    "y_hat_test_XGB = xgb_grid_search.predict(X_test)\n",
    "XGB_dict = {'accuracy':accuracy_score(y_hat_test_XGB,y_test)}\n",
    "\n",
    "print(XGB_dict)\n",
    "print(time.time()-start_time)"
   ]
  },
  {
   "cell_type": "code",
   "execution_count": 125,
   "metadata": {},
   "outputs": [
    {
     "data": {
      "text/plain": [
       "array([[815,   0,   2,   0,   0,   2,   4,   0,   5,   0],\n",
       "       [  0, 933,   6,   4,   1,   0,   1,   3,   3,   0],\n",
       "       [  2,   3, 804,   2,   4,   0,   4,   6,   5,   2],\n",
       "       [  6,   0,  13, 814,   1,  13,   2,   6,  18,   7],\n",
       "       [  2,   1,   0,   0, 791,   0,   4,   2,   2,  13],\n",
       "       [  5,   3,   1,   9,   1, 746,   3,   0,   6,   3],\n",
       "       [  5,   2,   0,   0,   2,   4, 794,   0,   1,   0],\n",
       "       [  1,   1,  10,   0,   6,   0,   0, 876,   3,  13],\n",
       "       [  2,   1,   4,   9,   4,   9,   3,   0, 762,   9],\n",
       "       [  7,   2,   1,  12,  19,   4,   1,   7,   4, 739]])"
      ]
     },
     "execution_count": 125,
     "metadata": {},
     "output_type": "execute_result"
    },
    {
     "data": {
      "image/png": "[encoded data removed]",
      "text/plain": [
       "<Figure size 288x288 with 1 Axes>"
      ]
     },
     "metadata": {
      "needs_background": "light"
     },
     "output_type": "display_data"
    }
   ],
   "source": [
    "c = confusion_matrix(y_test,y_hat_test_RF)\n",
    "a = np.zeros([10,10])\n",
    "np.fill_diagonal(a, c.diagonal()) \n",
    "plt.matshow(c-a)"
   ]
  },
  {
   "cell_type": "markdown",
   "metadata": {},
   "source": [
    "## Performing a SVD"
   ]
  },
  {
   "cell_type": "code",
   "execution_count": 183,
   "metadata": {},
   "outputs": [],
   "source": [
    "y = df['label']\n",
    "digits = df.drop(['label'],axis=1).to_numpy().T/255\n",
    "digitsavg = np.mean(digits,axis=1)\n",
    "\n",
    "X = digits - np.tile(digitsavg.reshape(-1,1).T,(digits.shape[1],1)).T"
   ]
  },
  {
   "cell_type": "code",
   "execution_count": 224,
   "metadata": {},
   "outputs": [
    {
     "data": {
      "text/plain": [
       "array([ 0.00000000e+00,  0.00000000e+00,  0.00000000e+00,  0.00000000e+00,\n",
       "        0.00000000e+00,  0.00000000e+00,  0.00000000e+00,  0.00000000e+00,\n",
       "        0.00000000e+00,  0.00000000e+00,  0.00000000e+00,  0.00000000e+00,\n",
       "       -1.17647059e-05, -4.38842204e-05, -2.01680672e-05, -8.40336134e-07,\n",
       "        0.00000000e+00,  0.00000000e+00,  0.00000000e+00,  0.00000000e+00,\n",
       "        0.00000000e+00,  0.00000000e+00,  0.00000000e+00,  0.00000000e+00,\n",
       "        0.00000000e+00,  0.00000000e+00,  0.00000000e+00,  0.00000000e+00,\n",
       "        0.00000000e+00,  0.00000000e+00,  0.00000000e+00,  0.00000000e+00,\n",
       "       -1.49393091e-06, -5.13538749e-06, -4.13632120e-05, -1.06909430e-04,\n",
       "       -1.99626517e-04, -2.60410831e-04, -5.08123249e-04, -6.82819795e-04,\n",
       "       -7.50233427e-04, -7.47432306e-04, -7.68814192e-04, -6.71988796e-04,\n",
       "       -6.45004669e-04, -5.94957983e-04, -4.12978525e-04, -2.38375350e-04,\n",
       "       -1.76750700e-04, -6.04108310e-05, -4.12698413e-05, -1.97945845e-05,\n",
       "        0.00000000e+00,  0.00000000e+00,  0.00000000e+00,  0.00000000e+00,\n",
       "        0.00000000e+00,  0.00000000e+00, -5.97572362e-06, -2.70774977e-06,\n",
       "       -2.87581699e-05, -3.53874883e-05, -2.39682540e-04, -5.92436975e-04,\n",
       "       -1.16022409e-03, -2.09281046e-03, -3.40933707e-03, -5.27927171e-03,\n",
       "       -7.77030812e-03, -1.05827264e-02, -1.32945845e-02, -1.49084967e-02,\n",
       "       -1.46669468e-02, -1.30698413e-02, -1.05274510e-02, -7.81419234e-03,\n",
       "       -4.68963585e-03, -2.35760971e-03, -1.15228758e-03, -3.86181139e-04,\n",
       "       -1.37068161e-04, -3.29598506e-05,  0.00000000e+00,  0.00000000e+00,\n",
       "        0.00000000e+00,  0.00000000e+00, -1.41923436e-05, -1.63398693e-05,\n",
       "       -6.43323996e-05, -3.52007470e-04, -9.24836601e-04, -2.12054155e-03,\n",
       "       -4.67777778e-03, -8.99159664e-03, -1.47779645e-02, -2.24073763e-02,\n",
       "       -3.03970121e-02, -3.94072829e-02, -4.73244631e-02, -5.25684407e-02,\n",
       "       -5.12655462e-02, -4.53874883e-02, -3.64529412e-02, -2.63071895e-02,\n",
       "       -1.62353875e-02, -8.90028011e-03, -4.28197946e-03, -1.66507937e-03,\n",
       "       -6.58730159e-04, -9.30905696e-05, -1.12978525e-05,  0.00000000e+00,\n",
       "        0.00000000e+00, -3.54808590e-06, -1.07376284e-05, -6.30252101e-05,\n",
       "       -3.46125117e-04, -1.52427638e-03, -4.03940243e-03, -9.62707750e-03,\n",
       "       -1.94243697e-02, -3.40272642e-02,  1.64725490e-02,  3.79185808e-02,\n",
       "        4.27278618e-01,  3.95745191e-01,  5.85435481e-01,  1.56500747e-01,\n",
       "        1.07676657e-01, -1.48817740e-01, -1.21430439e-01, -8.98413632e-02,\n",
       "       -5.83092437e-02, -3.40847806e-02, -1.78462185e-02, -8.23482726e-03,\n",
       "       -3.28926237e-03, -7.95144725e-04, -1.39122316e-04,  0.00000000e+00,\n",
       "        0.00000000e+00,  0.00000000e+00, -3.69747899e-05, -1.88235294e-04,\n",
       "       -1.61409897e-03, -5.64052288e-03, -1.39517274e-02, -2.80389356e-02,\n",
       "        2.81792717e-04,  2.53255369e-01,  8.54031933e-01,  8.18182353e-01,\n",
       "        7.60094398e-01,  7.01919328e-01,  6.57661158e-01,  4.91811204e-01,\n",
       "        6.13920448e-01,  2.77244725e-01, -1.32399907e-01, -1.94697199e-01,\n",
       "       -1.34864706e-01, -8.41472456e-02, -4.79535014e-02, -2.49983193e-02,\n",
       "       -1.13964519e-02, -3.11120448e-03, -4.94304388e-04, -1.68067227e-06,\n",
       "        0.00000000e+00, -3.73482726e-07, -9.05695612e-05, -8.95611578e-04,\n",
       "       -4.52763772e-03, -1.28157796e-02, -2.88903828e-02,  7.42474323e-03,\n",
       "        6.07343324e-01,  8.47515593e-01,  7.84284034e-01,  7.13708683e-01,\n",
       "        6.41289262e-01,  5.74357236e-01,  5.26668347e-01,  5.06295798e-01,\n",
       "        5.18055836e-01,  5.58243231e-01,  5.31025490e-01, -8.07901961e-02,\n",
       "       -1.51907937e-01, -1.37086181e-01, -8.11588235e-02, -4.36234360e-02,\n",
       "       -2.06046685e-02, -6.95462185e-03, -1.35574230e-03, -9.81325864e-05,\n",
       "        0.00000000e+00, -6.98412698e-05, -4.41083100e-04, -2.43688142e-03,\n",
       "       -9.61624650e-03, -2.34535014e-02, -4.85829132e-02,  1.94684687e-01,\n",
       "        8.52558637e-01,  7.81431186e-01,  7.02783754e-01,  6.21880486e-01,\n",
       "        5.52980486e-01,  5.00956396e-01,  4.72192904e-01,  4.64737348e-01,\n",
       "        4.74916620e-01,  5.01977778e-01,  5.54297012e-01,  6.32439683e-01,\n",
       "        1.37666667e-01, -1.81212698e-01, -1.08353968e-01, -5.80112979e-02,\n",
       "       -2.65780579e-02, -9.33604108e-03, -1.90494865e-03, -8.45004669e-05,\n",
       "       -4.94864613e-06, -2.61251167e-04, -1.50438842e-03, -5.49234360e-03,\n",
       "       -1.55717087e-02, -3.41327731e-02,  1.72913259e-01,  6.32797292e-01,\n",
       "        8.10278431e-01,  7.24799253e-01,  6.34832680e-01,  5.63863959e-01,\n",
       "        5.23120635e-01, -5.83743231e-02, -1.57764332e-01,  3.02029318e-01,\n",
       "        5.16787862e-01,  5.18531186e-01,  5.40695331e-01,  6.03194211e-01,\n",
       "        6.52427264e-01,  1.29350980e-01, -1.22200747e-01, -6.23280112e-02,\n",
       "       -2.71079365e-02, -9.72987862e-03, -1.90009337e-03, -6.95611578e-05,\n",
       "       -3.74416433e-05, -3.85340803e-04, -2.16349206e-03, -7.07675070e-03,\n",
       "       -1.82274510e-02, -3.87489262e-02,  5.97863959e-01,  8.60694678e-01,\n",
       "        7.78214379e-01,  6.82848553e-01,  3.96031466e-01,  1.37646779e-01,\n",
       "        1.40715406e-01, -2.31716993e-01, -3.86385901e-01, -3.44571242e-01,\n",
       "       -2.93623623e-01,  3.50008497e-01,  5.59663119e-01,  6.07311298e-01,\n",
       "        6.95446592e-01,  4.66280112e-01, -1.21127077e-01, -5.89907563e-02,\n",
       "       -2.29447246e-02, -7.20728291e-03, -1.29635854e-03, -1.22689076e-04,\n",
       "       -5.83566760e-05, -3.88795518e-04, -2.11867414e-03, -6.70186741e-03,\n",
       "       -1.69000000e-02, -3.45321195e-02,  6.02052194e-01,  8.49674697e-01,\n",
       "        7.57351261e-01,  1.47315593e-02, -1.36661998e-01, -4.06293091e-01,\n",
       "       -3.65414846e-01, -3.21677965e-01, -3.09502708e-01, -3.29360784e-01,\n",
       "       -3.67680579e-01,  9.20115780e-02,  5.70493838e-01,  6.26709711e-01,\n",
       "        7.16116713e-01,  6.43561251e-01,  1.87422035e-01, -5.29269841e-02,\n",
       "       -1.81460317e-02, -4.53837535e-03, -8.63211951e-04, -1.20261438e-04,\n",
       "       -2.48366013e-05, -2.62931839e-04, -1.72455649e-03, -5.05042017e-03,\n",
       "       -1.39888889e-02,  1.47290943e-01,  9.13385154e-01,  8.38952007e-01,\n",
       "        7.40420075e-01, -2.33912698e-01, -3.92007003e-01, -3.72301867e-01,\n",
       "       -3.18203081e-01, -2.86225677e-01, -2.98059290e-01, -3.35668347e-01,\n",
       "       -3.83623249e-01, -4.23544631e-01, -8.89366013e-02,  6.48238189e-01,\n",
       "        7.42793838e-01,  8.29564519e-01,  5.00506443e-01, -4.96608777e-02,\n",
       "       -1.61979458e-02, -2.54603175e-03, -5.29785247e-04, -3.78151261e-05,\n",
       "       -1.52194211e-05, -1.37348273e-04, -1.04537815e-03, -3.51279178e-03,\n",
       "       -1.16776844e-02,  2.76245845e-01,  9.06464146e-01,  8.23446779e-01,\n",
       "        6.68219795e-01, -2.63083287e-01, -3.87865079e-01, -3.58523156e-01,\n",
       "       -3.12792437e-01, -3.12556769e-01, -3.51003081e-01, -4.00486741e-01,\n",
       "       -4.46771615e-01, -4.64562092e-01, -3.24808964e-01,  6.10725397e-01,\n",
       "        7.67180672e-01,  8.45659010e-01,  5.05940149e-01, -5.08012138e-02,\n",
       "       -1.74881419e-02, -1.86647993e-03, -2.91970121e-04, -4.27637722e-05,\n",
       "       -2.98786181e-06, -5.29411765e-05, -5.06535948e-04, -2.40429505e-03,\n",
       "       -1.10391223e-02,  2.09018487e-01,  8.95287955e-01,  8.08102054e-01,\n",
       "        4.43818954e-01, -3.32410458e-01, -3.80972269e-01, -3.57327638e-01,\n",
       "       -3.40549580e-01, -3.79905602e-01, -4.37095425e-01, -4.88258824e-01,\n",
       "       -5.12381326e-01, -5.00018674e-01, -4.29443978e-01,  3.32269094e-01,\n",
       "        7.78950980e-01,  8.49112979e-01,  7.83174510e-01, -7.46816060e-03,\n",
       "       -2.06170868e-02, -2.41587302e-03, -2.84407096e-04, -5.05135387e-05,\n",
       "        0.00000000e+00, -1.96078431e-05, -2.05788982e-04, -1.69449113e-03,\n",
       "        4.33868347e-02,  8.61327358e-01,  8.84253035e-01,  7.97764146e-01,\n",
       "        7.07547993e-01, -2.38161345e-01, -3.70816527e-01, -3.63432680e-01,\n",
       "       -3.81033240e-01, -4.50818301e-01, -5.10353501e-01, -5.48337815e-01,\n",
       "       -5.38896732e-01, -5.04525210e-01, -4.22290009e-01, -1.86295985e-02,\n",
       "        7.75236041e-01,  8.42177871e-01,  8.95081326e-01,  8.39757236e-03,\n",
       "       -2.29195145e-02, -3.25350140e-03, -2.91503268e-04, -7.56302521e-06,\n",
       "        0.00000000e+00,  0.00000000e+00, -1.39869281e-04, -1.87749767e-03,\n",
       "        5.69525677e-02,  9.39943511e-01,  8.75359384e-01,  7.96000654e-01,\n",
       "        7.17259851e-01, -2.20137628e-01, -3.56000467e-01, -3.67586928e-01,\n",
       "       -4.10242577e-01, -4.82725864e-01, -5.31457423e-01, -5.45385994e-01,\n",
       "       -5.17643417e-01, -4.77252754e-01, -3.99678618e-01, -1.21012605e-01,\n",
       "        7.65304388e-01,  8.32428291e-01,  8.89541830e-01,  7.46498599e-03,\n",
       "       -2.31168067e-02, -4.14948646e-03, -5.63865546e-04, -4.30438842e-05,\n",
       "        0.00000000e+00, -7.37628385e-06, -2.61157796e-04, -2.53893557e-03,\n",
       "       -9.60308123e-03,  5.75092530e-01,  8.69602988e-01,  8.00948833e-01,\n",
       "        7.36483847e-01, -1.90981606e-01, -3.27658357e-01, -3.48529879e-01,\n",
       "       -3.94159570e-01, -4.52387208e-01, -4.94164799e-01, -4.99812232e-01,\n",
       "       -4.75762372e-01, -4.36714659e-01, -3.76199720e-01, -1.19057610e-01,\n",
       "        7.58746218e-01,  8.28902428e-01,  8.89987488e-01,  1.04437908e-02,\n",
       "       -2.19229692e-02, -4.87497666e-03, -7.39589169e-04, -7.88982260e-05,\n",
       "        0.00000000e+00, -1.45658263e-05, -4.12324930e-04, -3.79346405e-03,\n",
       "       -2.30908497e-02,  2.97393277e-01,  8.65563679e-01,  8.07758263e-01,\n",
       "        7.58353688e-01,  5.12152288e-01, -2.45451634e-01, -3.14751914e-01,\n",
       "       -3.48698039e-01, -3.96889916e-01, -4.39604295e-01, -4.52708403e-01,\n",
       "       -4.41574230e-01, -4.12695798e-01, -3.04044444e-01,  5.11135948e-01,\n",
       "        7.59168067e-01,  8.33253128e-01,  4.89218487e-01, -4.63491130e-02,\n",
       "       -1.98120448e-02, -5.20746965e-03, -8.01120448e-04, -7.09617180e-05,\n",
       "       -1.03641457e-05, -2.09150327e-05, -6.72829132e-04, -5.91783380e-03,\n",
       "       -2.95020542e-02, -2.01901027e-02,  6.71680952e-01,  8.06663959e-01,\n",
       "        7.66435481e-01,  7.37810458e-01,  5.11922596e-01, -4.02662932e-02,\n",
       "       -3.24003922e-01, -3.69980486e-01, -4.16001961e-01, -4.41536415e-01,\n",
       "       -4.39804295e-01, -3.33292250e-01,  2.60389636e-01,  6.89821569e-01,\n",
       "        7.69373483e-01,  8.10205602e-01,  3.26424837e-02, -4.42730159e-02,\n",
       "       -1.74635854e-02, -4.88804855e-03, -6.35574230e-04, -4.35107376e-05,\n",
       "        0.00000000e+00, -3.76283847e-05, -1.08123249e-03, -7.98711485e-03,\n",
       "       -3.38191410e-02, -8.46566760e-02,  9.06740430e-02,  6.30897292e-01,\n",
       "        7.50563492e-01,  7.16566947e-01,  6.91717180e-01,  4.38569281e-01,\n",
       "       -1.61819981e-01, -2.05233333e-01, -3.07554435e-01, -3.04505602e-01,\n",
       "       -2.71317180e-01,  3.93406723e-01,  6.29669001e-01,  7.08945005e-01,\n",
       "        7.92762185e-01,  5.40020075e-01, -7.42986928e-02, -3.58027077e-02,\n",
       "       -1.38648926e-02, -4.02231559e-03, -6.26704015e-04, -2.12885154e-05,\n",
       "        0.00000000e+00, -3.59477124e-05, -1.26890756e-03, -8.99729225e-03,\n",
       "       -3.36344538e-02, -8.10271709e-02, -1.44722316e-01,  1.26499533e-01,\n",
       "        6.82404108e-01,  6.77049020e-01,  6.42318768e-01,  6.13250887e-01,\n",
       "        5.79421382e-01,  5.37411111e-01,  4.21337535e-01,  4.55958450e-01,\n",
       "        5.26783940e-01,  5.83309150e-01,  6.62382633e-01,  7.51759944e-01,\n",
       "        8.33454715e-01,  2.38322689e-01, -5.35540616e-02, -2.54924370e-02,\n",
       "       -1.03279178e-02, -2.96059757e-03, -4.08683473e-04, -4.66853408e-06,\n",
       "       -2.98786181e-06, -2.77310924e-05, -1.06797386e-03, -7.47880486e-03,\n",
       "       -2.64931839e-02, -6.64628385e-02, -1.27684127e-01, -2.01521755e-01,\n",
       "        1.70784967e-01,  6.53146592e-01,  5.99933613e-01,  5.55392904e-01,\n",
       "        5.15339963e-01,  4.83087115e-01,  4.74581419e-01,  5.00618954e-01,\n",
       "        5.58364893e-01,  6.39427077e-01,  7.30564239e-01,  7.56128852e-01,\n",
       "        2.24233427e-01, -2.05252101e-02, -3.29307190e-02, -1.61639589e-02,\n",
       "       -6.41027077e-03, -1.68309991e-03, -2.57703081e-04, -3.64145658e-06,\n",
       "       -2.89449113e-06, -1.30718954e-06, -6.68627451e-04, -4.54108310e-03,\n",
       "       -1.58041083e-02, -4.27771242e-02, -9.12073763e-02, -1.57823436e-01,\n",
       "       -1.87013819e-01,  3.96908497e-01,  6.08171148e-01,  5.52929972e-01,\n",
       "        5.15081046e-01,  5.01839402e-01,  5.18093091e-01,  5.70732493e-01,\n",
       "        6.46817087e-01,  7.33965359e-01,  7.73600187e-01,  1.61338469e-01,\n",
       "       -6.54351074e-02, -3.49564893e-02, -1.78342670e-02, -8.24379085e-03,\n",
       "       -3.12595705e-03, -7.91690009e-04, -9.15032680e-05, -6.72268908e-06,\n",
       "        0.00000000e+00,  0.00000000e+00, -2.38001867e-04, -1.85434174e-03,\n",
       "       -7.09309057e-03, -1.97113912e-02, -4.70884220e-02, -9.29756303e-02,\n",
       "       -1.56226611e-01, -1.97223249e-01, -2.23893557e-03,  2.13241176e-01,\n",
       "        6.04299813e-01,  6.08554248e-01,  6.36965173e-01,  7.00118021e-01,\n",
       "        3.44464239e-01, -8.46859944e-02, -4.19083100e-02, -5.96322129e-02,\n",
       "       -3.29950514e-02, -1.67645191e-02, -8.25564893e-03, -3.72791783e-03,\n",
       "       -1.21391223e-03, -2.53781513e-04, -4.85527544e-05,  0.00000000e+00,\n",
       "        0.00000000e+00,  0.00000000e+00, -7.07749767e-05, -5.44537815e-04,\n",
       "       -2.18319328e-03, -6.42110177e-03, -1.62819795e-02, -3.50014006e-02,\n",
       "       -6.43779645e-02, -1.03521942e-01, -1.45648459e-01, -1.81184781e-01,\n",
       "       -2.00922035e-01, -2.00149393e-01, -1.80132960e-01, -1.46239589e-01,\n",
       "       -1.09866667e-01, -7.62258637e-02, -4.76863679e-02, -2.86787115e-02,\n",
       "       -1.56882353e-02, -7.81241830e-03, -3.65779645e-03, -1.58524743e-03,\n",
       "       -3.93183940e-04, -9.04761905e-05, -1.08309991e-05,  0.00000000e+00,\n",
       "        0.00000000e+00,  0.00000000e+00, -8.77684407e-06, -8.19794585e-05,\n",
       "       -5.84033613e-04, -1.85443511e-03, -5.12044818e-03, -1.17275444e-02,\n",
       "       -2.29136321e-02, -3.70144725e-02, -5.28713352e-02, -6.49258637e-02,\n",
       "       -7.10813259e-02, -7.01928105e-02, -6.31690009e-02, -5.35060691e-02,\n",
       "       -4.27212885e-02, -3.15884220e-02, -2.09163399e-02, -1.24957983e-02,\n",
       "       -6.74948646e-03, -3.27507003e-03, -1.48524743e-03, -5.73015873e-04,\n",
       "       -9.57049486e-05, -1.99813259e-05, -9.71055089e-06,  0.00000000e+00,\n",
       "        0.00000000e+00,  0.00000000e+00,  0.00000000e+00,  0.00000000e+00,\n",
       "       -1.37441643e-04, -5.47712418e-04, -1.97292250e-03, -4.49542484e-03,\n",
       "       -8.47759104e-03, -1.27194211e-02, -1.81851541e-02, -2.34490196e-02,\n",
       "       -2.59023343e-02, -2.52690009e-02, -2.22788049e-02, -1.82625584e-02,\n",
       "       -1.47942110e-02, -1.07800187e-02, -7.04491130e-03, -4.27413632e-03,\n",
       "       -2.20859010e-03, -9.39495798e-04, -3.66760037e-04, -9.73856209e-05,\n",
       "       -3.36134454e-06, -5.50887021e-06,  0.00000000e+00,  0.00000000e+00,\n",
       "        0.00000000e+00,  0.00000000e+00,  0.00000000e+00,  0.00000000e+00,\n",
       "        0.00000000e+00, -2.40896359e-05, -1.40522876e-04, -3.22969188e-04,\n",
       "       -4.50606909e-04, -7.00840336e-04, -1.18216620e-03, -1.62212885e-03,\n",
       "       -2.01437908e-03, -2.19150327e-03, -2.65826331e-03, -2.36395892e-03,\n",
       "       -1.91858077e-03, -1.33417367e-03, -8.59943978e-04, -4.59197012e-04,\n",
       "       -2.31465920e-04, -7.91783380e-05, -6.76003735e-05, -1.12044818e-05,\n",
       "        0.00000000e+00,  0.00000000e+00,  0.00000000e+00,  0.00000000e+00])"
      ]
     },
     "execution_count": 224,
     "metadata": {},
     "output_type": "execute_result"
    }
   ],
   "source": [
    "X[:,1]"
   ]
  },
  {
   "cell_type": "code",
   "execution_count": 185,
   "metadata": {},
   "outputs": [
    {
     "data": {
      "text/plain": [
       "<matplotlib.image.AxesImage at 0x7ff9ac3edee0>"
      ]
     },
     "execution_count": 185,
     "metadata": {},
     "output_type": "execute_result"
    },
    {
     "data": {
      "image/png": "[encoded data removed]",
      "text/plain": [
       "<Figure size 432x288 with 1 Axes>"
      ]
     },
     "metadata": {
      "needs_background": "light"
     },
     "output_type": "display_data"
    }
   ],
   "source": [
    "plt.imshow(digitsavg.reshape(28,28))"
   ]
  },
  {
   "cell_type": "code",
   "execution_count": 186,
   "metadata": {},
   "outputs": [],
   "source": [
    "U,S,VT = np.linalg.svd(X,full_matrices=0)\n",
    "\n",
    "plt.plot(S)\n",
    "plt.yscale('log')"
   ]
  },
  {
   "cell_type": "code",
   "execution_count": null,
   "metadata": {},
   "outputs": [],
   "source": [
    "## Now lets see how it does on a test set"
   ]
  },
  {
   "cell_type": "code",
   "execution_count": 13,
   "metadata": {},
   "outputs": [],
   "source": [
    "df_test = pd.read_csv('digit-recognizer/test.csv')\n",
    "#y_test = df_test['label']\n",
    "#X_test = df_test.drop(['label'],axis=1).T\n",
    "#X_test = df_test.T.to_numpy()/255"
   ]
  },
  {
   "cell_type": "code",
   "execution_count": 189,
   "metadata": {},
   "outputs": [
    {
     "data": {
      "text/plain": [
       "<matplotlib.image.AxesImage at 0x7ff949212c40>"
      ]
     },
     "execution_count": 189,
     "metadata": {},
     "output_type": "execute_result"
    },
    {
     "data": {
      "image/png": "[encoded data removed]",
      "text/plain": [
       "<Figure size 432x288 with 1 Axes>"
      ]
     },
     "metadata": {
      "needs_background": "light"
     },
     "output_type": "display_data"
    }
   ],
   "source": [
    "plt.imshow(X_test[:,2].reshape(28,28),cmap='gray')"
   ]
  },
  {
   "cell_type": "code",
   "execution_count": 190,
   "metadata": {},
   "outputs": [
    {
     "data": {
      "text/plain": [
       "<matplotlib.image.AxesImage at 0x7ff9acf47730>"
      ]
     },
     "execution_count": 190,
     "metadata": {},
     "output_type": "execute_result"
    },
    {
     "data": {
      "image/png": "[encoded data removed]",
      "text/plain": [
       "<Figure size 432x288 with 1 Axes>"
      ]
     },
     "metadata": {
      "needs_background": "light"
     },
     "output_type": "display_data"
    }
   ],
   "source": [
    "r = 784\n",
    "plt.imshow((U[:,:r] @U[:,:r].T @X_test[:,2]).reshape(28,28))"
   ]
  },
  {
   "cell_type": "code",
   "execution_count": null,
   "metadata": {},
   "outputs": [],
   "source": [
    "## Plotting Correlations between principle components"
   ]
  },
  {
   "cell_type": "code",
   "execution_count": 220,
   "metadata": {},
   "outputs": [
    {
     "data": {
      "text/plain": [
       "<matplotlib.image.AxesImage at 0x7ff94949c220>"
      ]
     },
     "execution_count": 220,
     "metadata": {},
     "output_type": "execute_result"
    },
    {
     "data": {
      "image/png": "[encoded data removed]",
      "text/plain": [
       "<Figure size 432x288 with 1 Axes>"
      ]
     },
     "metadata": {
      "needs_background": "light"
     },
     "output_type": "display_data"
    }
   ],
   "source": [
    "r = 500\n",
    "plt.imshow((U[:,:r] @U[:,:r].T @X[:,5]+ digitsavg).reshape(28,28))"
   ]
  },
  {
   "cell_type": "code",
   "execution_count": 216,
   "metadata": {},
   "outputs": [
    {
     "data": {
      "text/plain": [
       "array([[0., 0., 0., ..., 0., 0., 0.],\n",
       "       [0., 0., 0., ..., 0., 0., 0.],\n",
       "       [0., 0., 0., ..., 0., 0., 0.],\n",
       "       ...,\n",
       "       [0., 0., 0., ..., 0., 0., 0.],\n",
       "       [0., 0., 0., ..., 0., 0., 0.],\n",
       "       [0., 0., 0., ..., 0., 0., 0.]])"
      ]
     },
     "execution_count": 216,
     "metadata": {},
     "output_type": "execute_result"
    }
   ],
   "source": [
    "X"
   ]
  },
  {
   "cell_type": "code",
   "execution_count": 222,
   "metadata": {},
   "outputs": [
    {
     "data": {
      "text/plain": [
       "1"
      ]
     },
     "execution_count": 222,
     "metadata": {},
     "output_type": "execute_result"
    }
   ],
   "source": []
  },
  {
   "cell_type": "code",
   "execution_count": 241,
   "metadata": {},
   "outputs": [
    {
     "data": {
      "text/plain": [
       "(4132,)"
      ]
     },
     "execution_count": 241,
     "metadata": {},
     "output_type": "execute_result"
    }
   ],
   "source": [
    "XSVD[0][0]"
   ]
  },
  {
   "cell_type": "code",
   "execution_count": 276,
   "metadata": {},
   "outputs": [
    {
     "data": {
      "image/png": "[encoded data removed]",
      "text/plain": [
       "<Figure size 1440x720 with 16 Axes>"
      ]
     },
     "metadata": {
      "needs_background": "light"
     },
     "output_type": "display_data"
    }
   ],
   "source": [
    "r = 100\n",
    "fig, ax = plt.subplots(nrows=4, ncols=4, figsize=(20, 10))\n",
    "XSVD = []\n",
    "for i in range(10):\n",
    "    select = labels==i\n",
    "    Xplot = X[:,select]\n",
    "    XSVD.append(U[:,:r].T @ Xplot)\n",
    "    #print(XSVD.shape)\n",
    "    for j in range(0,16):\n",
    "        if i in [3,8]:\n",
    "            ax[j//4,j%4].plot(XSVD[i][j],XSVD[i][j+1],'o')\n",
    "    \n",
    "    "
   ]
  },
  {
   "cell_type": "markdown",
   "metadata": {},
   "source": [
    "## Doing RF classification"
   ]
  },
  {
   "cell_type": "markdown",
   "metadata": {},
   "source": [
    "### All pixels as features"
   ]
  },
  {
   "cell_type": "code",
   "execution_count": 5,
   "metadata": {},
   "outputs": [
    {
     "data": {
      "text/plain": [
       "(42000, 784)"
      ]
     },
     "execution_count": 5,
     "metadata": {},
     "output_type": "execute_result"
    }
   ],
   "source": [
    "X.shape"
   ]
  },
  {
   "cell_type": "code",
   "execution_count": 4,
   "metadata": {},
   "outputs": [],
   "source": [
    "y = df['label']\n",
    "scaler = StandardScaler()\n",
    "X = scaler.fit_transform(df.drop(['label'],axis=1))\n",
    "X_train, X_test, y_train, y_test = train_test_split(X, y, test_size=0.2)"
   ]
  },
  {
   "cell_type": "code",
   "execution_count": 348,
   "metadata": {},
   "outputs": [
    {
     "name": "stderr",
     "output_type": "stream",
     "text": [
      "/Users/akshayghalsasi/opt/anaconda3/lib/python3.8/site-packages/joblib/externals/loky/process_executor.py:688: UserWarning: A worker stopped while some jobs were given to the executor. This can be caused by a too short worker timeout or by a memory leak.\n",
      "  warnings.warn(\n"
     ]
    },
    {
     "name": "stdout",
     "output_type": "stream",
     "text": [
      "Training Accuracy: 95.83%\n",
      "\n",
      "Optimal Parameters: {'criterion': 'gini', 'max_depth': None, 'min_samples_leaf': 3, 'min_samples_split': 5, 'n_estimators': 100}\n",
      "{'accuracy': 0.9598809523809524}\n"
     ]
    }
   ],
   "source": [
    "rf_clf = RandomForestClassifier()\n",
    "rf_param_grid = {\n",
    "            'n_estimators': [100],\n",
    "            'criterion': ['gini', 'entropy'],\n",
    "            'max_depth': [None, 2, 3, 5,10],\n",
    "            'min_samples_split': [None,5,10],\n",
    "            'min_samples_leaf': [None,3,5]\n",
    "        }\n",
    "rf_grid_search = GridSearchCV(rf_clf, rf_param_grid, cv=5,n_jobs=-1)\n",
    "rf_grid_search.fit(X_train, y_train)\n",
    "print(f\"Training Accuracy: {rf_grid_search.best_score_ :.2%}\")\n",
    "print(\"\")\n",
    "print(f\"Optimal Parameters: {rf_grid_search.best_params_}\")\n",
    "best_rf = rf_grid_search.best_params_\n",
    "\n",
    "y_hat_test_RF = rf_grid_search.predict(X_test)\n",
    "RF_dict = {'accuracy':accuracy_score(y_hat_test_RF,y_test)}\n",
    "print(RF_dict)\n",
    "\n"
   ]
  },
  {
   "cell_type": "code",
   "execution_count": 305,
   "metadata": {},
   "outputs": [
    {
     "data": {
      "text/plain": [
       "0.9626190476190476"
      ]
     },
     "execution_count": 305,
     "metadata": {},
     "output_type": "execute_result"
    }
   ],
   "source": [
    "accuracy_score(y_hat_test_RF,y_test)"
   ]
  },
  {
   "cell_type": "code",
   "execution_count": 310,
   "metadata": {},
   "outputs": [],
   "source": [
    "prediction = rf_grid_search.predict(scaler.fit_transform(df_test))"
   ]
  },
  {
   "cell_type": "code",
   "execution_count": 311,
   "metadata": {},
   "outputs": [],
   "source": [
    "prediction_df = pd.DataFrame(data = zip(np.arange(1,28001),prediction),\n",
    "                  columns = ['ImageId','Label'])\n",
    "prediction_df.to_csv('submission.csv',index=False)"
   ]
  },
  {
   "cell_type": "markdown",
   "metadata": {},
   "source": [
    "### SVM"
   ]
  },
  {
   "cell_type": "code",
   "execution_count": 6,
   "metadata": {},
   "outputs": [
    {
     "data": {
      "text/plain": [
       "SVC()"
      ]
     },
     "execution_count": 6,
     "metadata": {},
     "output_type": "execute_result"
    }
   ],
   "source": [
    "svm_clf = svm.SVC(kernel='rbf')\n",
    "svm_clf.fit(X_train, y_train)"
   ]
  },
  {
   "cell_type": "code",
   "execution_count": 8,
   "metadata": {},
   "outputs": [],
   "source": [
    "y_hat_test_svm = svm_clf.predict(X_test)"
   ]
  },
  {
   "cell_type": "code",
   "execution_count": 11,
   "metadata": {},
   "outputs": [
    {
     "name": "stdout",
     "output_type": "stream",
     "text": [
      "{'accuracy': 0.9557142857142857}\n"
     ]
    }
   ],
   "source": [
    "SVM_poly_dict = {'accuracy':accuracy_score(y_hat_test_svm,y_test)}\n",
    "print(SVM_poly_dict)"
   ]
  },
  {
   "cell_type": "code",
   "execution_count": 14,
   "metadata": {},
   "outputs": [],
   "source": [
    "prediction = svm_clf.predict(scaler.fit_transform(df_test))\n",
    "prediction_df = pd.DataFrame(data = zip(np.arange(1,28001),prediction),\n",
    "                  columns = ['ImageId','Label'])\n",
    "prediction_df.to_csv('submission_svm.csv',index=False)"
   ]
  },
  {
   "cell_type": "code",
   "execution_count": 15,
   "metadata": {},
   "outputs": [
    {
     "data": {
      "text/plain": [
       "array([2, 0, 9, ..., 3, 9, 2])"
      ]
     },
     "execution_count": 15,
     "metadata": {},
     "output_type": "execute_result"
    }
   ],
   "source": [
    "prediction"
   ]
  },
  {
   "cell_type": "code",
   "execution_count": 16,
   "metadata": {},
   "outputs": [
    {
     "name": "stderr",
     "output_type": "stream",
     "text": [
      "/Users/akshayghalsasi/opt/anaconda3/lib/python3.8/site-packages/joblib/externals/loky/process_executor.py:688: UserWarning: A worker stopped while some jobs were given to the executor. This can be caused by a too short worker timeout or by a memory leak.\n",
      "  warnings.warn(\n"
     ]
    },
    {
     "name": "stdout",
     "output_type": "stream",
     "text": [
      "{'accuracy': 0.9621428571428572}\n"
     ]
    }
   ],
   "source": [
    "svm_clf = svm.SVC(kernel='rbf')\n",
    "#r_range =  np.array([0.25,0.5, 1,2,4])\n",
    "gamma_range =  ['auto','scale']\n",
    "C_range = [0.01,0.1,1,10,100]\n",
    "#d_range = np.array([2,3, 4])\n",
    "param_grid = dict(C = C_range, gamma=gamma_range)\n",
    "svm_grid_search = GridSearchCV(svm_clf, param_grid, cv=5,n_jobs=-1)\n",
    "svm_grid_search.fit(X_train, y_train)\n",
    "best_svm = svm_grid_search.best_params_\n",
    "y_hat_test_svm = svm_grid_search.predict(X_test)\n",
    "SVM_poly_dict = {'accuracy':accuracy_score(y_hat_test_svm,y_test)}\n",
    "print(SVM_poly_dict)"
   ]
  },
  {
   "cell_type": "code",
   "execution_count": 17,
   "metadata": {},
   "outputs": [],
   "source": [
    "prediction = svm_grid_search.predict(scaler.fit_transform(df_test))\n",
    "prediction_df = pd.DataFrame(data = zip(np.arange(1,28001),prediction),\n",
    "                  columns = ['ImageId','Label'])\n",
    "prediction_df.to_csv('submission_svm.csv',index=False)"
   ]
  },
  {
   "cell_type": "code",
   "execution_count": 18,
   "metadata": {},
   "outputs": [
    {
     "data": {
      "text/plain": [
       "array([2, 0, 9, ..., 3, 9, 2])"
      ]
     },
     "execution_count": 18,
     "metadata": {},
     "output_type": "execute_result"
    }
   ],
   "source": [
    "prediction"
   ]
  },
  {
   "cell_type": "markdown",
   "metadata": {},
   "source": [
    "### XGB"
   ]
  },
  {
   "cell_type": "code",
   "execution_count": 4,
   "metadata": {},
   "outputs": [
    {
     "ename": "KeyboardInterrupt",
     "evalue": "",
     "output_type": "error",
     "traceback": [
      "\u001b[0;31m---------------------------------------------------------------------------\u001b[0m",
      "\u001b[0;31mKeyboardInterrupt\u001b[0m                         Traceback (most recent call last)",
      "\u001b[0;32m<ipython-input-4-eda042783b3d>\u001b[0m in \u001b[0;36m<module>\u001b[0;34m\u001b[0m\n\u001b[1;32m     15\u001b[0m             \u001b[0mverbose\u001b[0m\u001b[0;34m=\u001b[0m\u001b[0;32mFalse\u001b[0m\u001b[0;34m\u001b[0m\u001b[0;34m\u001b[0m\u001b[0m\n\u001b[1;32m     16\u001b[0m         )\n\u001b[0;32m---> 17\u001b[0;31m \u001b[0mxgb_grid_search\u001b[0m\u001b[0;34m.\u001b[0m\u001b[0mfit\u001b[0m\u001b[0;34m(\u001b[0m\u001b[0mX_train\u001b[0m\u001b[0;34m,\u001b[0m \u001b[0my_train\u001b[0m\u001b[0;34m)\u001b[0m\u001b[0;34m\u001b[0m\u001b[0;34m\u001b[0m\u001b[0m\n\u001b[0m\u001b[1;32m     18\u001b[0m \u001b[0mprint\u001b[0m\u001b[0;34m(\u001b[0m\u001b[0;34mf\"Training Accuracy: {xgb_grid_search.best_score_ :.2%}\"\u001b[0m\u001b[0;34m)\u001b[0m\u001b[0;34m\u001b[0m\u001b[0;34m\u001b[0m\u001b[0m\n\u001b[1;32m     19\u001b[0m \u001b[0mprint\u001b[0m\u001b[0;34m(\u001b[0m\u001b[0;34m\"\"\u001b[0m\u001b[0;34m)\u001b[0m\u001b[0;34m\u001b[0m\u001b[0;34m\u001b[0m\u001b[0m\n",
      "\u001b[0;32m~/opt/anaconda3/lib/python3.8/site-packages/sklearn/utils/validation.py\u001b[0m in \u001b[0;36minner_f\u001b[0;34m(*args, **kwargs)\u001b[0m\n\u001b[1;32m     70\u001b[0m                           FutureWarning)\n\u001b[1;32m     71\u001b[0m         \u001b[0mkwargs\u001b[0m\u001b[0;34m.\u001b[0m\u001b[0mupdate\u001b[0m\u001b[0;34m(\u001b[0m\u001b[0;34m{\u001b[0m\u001b[0mk\u001b[0m\u001b[0;34m:\u001b[0m \u001b[0marg\u001b[0m \u001b[0;32mfor\u001b[0m \u001b[0mk\u001b[0m\u001b[0;34m,\u001b[0m \u001b[0marg\u001b[0m \u001b[0;32min\u001b[0m \u001b[0mzip\u001b[0m\u001b[0;34m(\u001b[0m\u001b[0msig\u001b[0m\u001b[0;34m.\u001b[0m\u001b[0mparameters\u001b[0m\u001b[0;34m,\u001b[0m \u001b[0margs\u001b[0m\u001b[0;34m)\u001b[0m\u001b[0;34m}\u001b[0m\u001b[0;34m)\u001b[0m\u001b[0;34m\u001b[0m\u001b[0;34m\u001b[0m\u001b[0m\n\u001b[0;32m---> 72\u001b[0;31m         \u001b[0;32mreturn\u001b[0m \u001b[0mf\u001b[0m\u001b[0;34m(\u001b[0m\u001b[0;34m**\u001b[0m\u001b[0mkwargs\u001b[0m\u001b[0;34m)\u001b[0m\u001b[0;34m\u001b[0m\u001b[0;34m\u001b[0m\u001b[0m\n\u001b[0m\u001b[1;32m     73\u001b[0m     \u001b[0;32mreturn\u001b[0m \u001b[0minner_f\u001b[0m\u001b[0;34m\u001b[0m\u001b[0;34m\u001b[0m\u001b[0m\n\u001b[1;32m     74\u001b[0m \u001b[0;34m\u001b[0m\u001b[0m\n",
      "\u001b[0;32m~/opt/anaconda3/lib/python3.8/site-packages/sklearn/model_selection/_search.py\u001b[0m in \u001b[0;36mfit\u001b[0;34m(self, X, y, groups, **fit_params)\u001b[0m\n\u001b[1;32m    734\u001b[0m                 \u001b[0;32mreturn\u001b[0m \u001b[0mresults\u001b[0m\u001b[0;34m\u001b[0m\u001b[0;34m\u001b[0m\u001b[0m\n\u001b[1;32m    735\u001b[0m \u001b[0;34m\u001b[0m\u001b[0m\n\u001b[0;32m--> 736\u001b[0;31m             \u001b[0mself\u001b[0m\u001b[0;34m.\u001b[0m\u001b[0m_run_search\u001b[0m\u001b[0;34m(\u001b[0m\u001b[0mevaluate_candidates\u001b[0m\u001b[0;34m)\u001b[0m\u001b[0;34m\u001b[0m\u001b[0;34m\u001b[0m\u001b[0m\n\u001b[0m\u001b[1;32m    737\u001b[0m \u001b[0;34m\u001b[0m\u001b[0m\n\u001b[1;32m    738\u001b[0m         \u001b[0;31m# For multi-metric evaluation, store the best_index_, best_params_ and\u001b[0m\u001b[0;34m\u001b[0m\u001b[0;34m\u001b[0m\u001b[0;34m\u001b[0m\u001b[0m\n",
      "\u001b[0;32m~/opt/anaconda3/lib/python3.8/site-packages/sklearn/model_selection/_search.py\u001b[0m in \u001b[0;36m_run_search\u001b[0;34m(self, evaluate_candidates)\u001b[0m\n\u001b[1;32m   1186\u001b[0m     \u001b[0;32mdef\u001b[0m \u001b[0m_run_search\u001b[0m\u001b[0;34m(\u001b[0m\u001b[0mself\u001b[0m\u001b[0;34m,\u001b[0m \u001b[0mevaluate_candidates\u001b[0m\u001b[0;34m)\u001b[0m\u001b[0;34m:\u001b[0m\u001b[0;34m\u001b[0m\u001b[0;34m\u001b[0m\u001b[0m\n\u001b[1;32m   1187\u001b[0m         \u001b[0;34m\"\"\"Search all candidates in param_grid\"\"\"\u001b[0m\u001b[0;34m\u001b[0m\u001b[0;34m\u001b[0m\u001b[0m\n\u001b[0;32m-> 1188\u001b[0;31m         \u001b[0mevaluate_candidates\u001b[0m\u001b[0;34m(\u001b[0m\u001b[0mParameterGrid\u001b[0m\u001b[0;34m(\u001b[0m\u001b[0mself\u001b[0m\u001b[0;34m.\u001b[0m\u001b[0mparam_grid\u001b[0m\u001b[0;34m)\u001b[0m\u001b[0;34m)\u001b[0m\u001b[0;34m\u001b[0m\u001b[0;34m\u001b[0m\u001b[0m\n\u001b[0m\u001b[1;32m   1189\u001b[0m \u001b[0;34m\u001b[0m\u001b[0m\n\u001b[1;32m   1190\u001b[0m \u001b[0;34m\u001b[0m\u001b[0m\n",
      "\u001b[0;32m~/opt/anaconda3/lib/python3.8/site-packages/sklearn/model_selection/_search.py\u001b[0m in \u001b[0;36mevaluate_candidates\u001b[0;34m(candidate_params)\u001b[0m\n\u001b[1;32m    706\u001b[0m                               n_splits, n_candidates, n_candidates * n_splits))\n\u001b[1;32m    707\u001b[0m \u001b[0;34m\u001b[0m\u001b[0m\n\u001b[0;32m--> 708\u001b[0;31m                 out = parallel(delayed(_fit_and_score)(clone(base_estimator),\n\u001b[0m\u001b[1;32m    709\u001b[0m                                                        \u001b[0mX\u001b[0m\u001b[0;34m,\u001b[0m \u001b[0my\u001b[0m\u001b[0;34m,\u001b[0m\u001b[0;34m\u001b[0m\u001b[0;34m\u001b[0m\u001b[0m\n\u001b[1;32m    710\u001b[0m                                                        \u001b[0mtrain\u001b[0m\u001b[0;34m=\u001b[0m\u001b[0mtrain\u001b[0m\u001b[0;34m,\u001b[0m \u001b[0mtest\u001b[0m\u001b[0;34m=\u001b[0m\u001b[0mtest\u001b[0m\u001b[0;34m,\u001b[0m\u001b[0;34m\u001b[0m\u001b[0;34m\u001b[0m\u001b[0m\n",
      "\u001b[0;32m~/opt/anaconda3/lib/python3.8/site-packages/joblib/parallel.py\u001b[0m in \u001b[0;36m__call__\u001b[0;34m(self, iterable)\u001b[0m\n\u001b[1;32m   1059\u001b[0m \u001b[0;34m\u001b[0m\u001b[0m\n\u001b[1;32m   1060\u001b[0m             \u001b[0;32mwith\u001b[0m \u001b[0mself\u001b[0m\u001b[0;34m.\u001b[0m\u001b[0m_backend\u001b[0m\u001b[0;34m.\u001b[0m\u001b[0mretrieval_context\u001b[0m\u001b[0;34m(\u001b[0m\u001b[0;34m)\u001b[0m\u001b[0;34m:\u001b[0m\u001b[0;34m\u001b[0m\u001b[0;34m\u001b[0m\u001b[0m\n\u001b[0;32m-> 1061\u001b[0;31m                 \u001b[0mself\u001b[0m\u001b[0;34m.\u001b[0m\u001b[0mretrieve\u001b[0m\u001b[0;34m(\u001b[0m\u001b[0;34m)\u001b[0m\u001b[0;34m\u001b[0m\u001b[0;34m\u001b[0m\u001b[0m\n\u001b[0m\u001b[1;32m   1062\u001b[0m             \u001b[0;31m# Make sure that we get a last message telling us we are done\u001b[0m\u001b[0;34m\u001b[0m\u001b[0;34m\u001b[0m\u001b[0;34m\u001b[0m\u001b[0m\n\u001b[1;32m   1063\u001b[0m             \u001b[0melapsed_time\u001b[0m \u001b[0;34m=\u001b[0m \u001b[0mtime\u001b[0m\u001b[0;34m.\u001b[0m\u001b[0mtime\u001b[0m\u001b[0;34m(\u001b[0m\u001b[0;34m)\u001b[0m \u001b[0;34m-\u001b[0m \u001b[0mself\u001b[0m\u001b[0;34m.\u001b[0m\u001b[0m_start_time\u001b[0m\u001b[0;34m\u001b[0m\u001b[0;34m\u001b[0m\u001b[0m\n",
      "\u001b[0;32m~/opt/anaconda3/lib/python3.8/site-packages/joblib/parallel.py\u001b[0m in \u001b[0;36mretrieve\u001b[0;34m(self)\u001b[0m\n\u001b[1;32m    938\u001b[0m             \u001b[0;32mtry\u001b[0m\u001b[0;34m:\u001b[0m\u001b[0;34m\u001b[0m\u001b[0;34m\u001b[0m\u001b[0m\n\u001b[1;32m    939\u001b[0m                 \u001b[0;32mif\u001b[0m \u001b[0mgetattr\u001b[0m\u001b[0;34m(\u001b[0m\u001b[0mself\u001b[0m\u001b[0;34m.\u001b[0m\u001b[0m_backend\u001b[0m\u001b[0;34m,\u001b[0m \u001b[0;34m'supports_timeout'\u001b[0m\u001b[0;34m,\u001b[0m \u001b[0;32mFalse\u001b[0m\u001b[0;34m)\u001b[0m\u001b[0;34m:\u001b[0m\u001b[0;34m\u001b[0m\u001b[0;34m\u001b[0m\u001b[0m\n\u001b[0;32m--> 940\u001b[0;31m                     \u001b[0mself\u001b[0m\u001b[0;34m.\u001b[0m\u001b[0m_output\u001b[0m\u001b[0;34m.\u001b[0m\u001b[0mextend\u001b[0m\u001b[0;34m(\u001b[0m\u001b[0mjob\u001b[0m\u001b[0;34m.\u001b[0m\u001b[0mget\u001b[0m\u001b[0;34m(\u001b[0m\u001b[0mtimeout\u001b[0m\u001b[0;34m=\u001b[0m\u001b[0mself\u001b[0m\u001b[0;34m.\u001b[0m\u001b[0mtimeout\u001b[0m\u001b[0;34m)\u001b[0m\u001b[0;34m)\u001b[0m\u001b[0;34m\u001b[0m\u001b[0;34m\u001b[0m\u001b[0m\n\u001b[0m\u001b[1;32m    941\u001b[0m                 \u001b[0;32melse\u001b[0m\u001b[0;34m:\u001b[0m\u001b[0;34m\u001b[0m\u001b[0;34m\u001b[0m\u001b[0m\n\u001b[1;32m    942\u001b[0m                     \u001b[0mself\u001b[0m\u001b[0;34m.\u001b[0m\u001b[0m_output\u001b[0m\u001b[0;34m.\u001b[0m\u001b[0mextend\u001b[0m\u001b[0;34m(\u001b[0m\u001b[0mjob\u001b[0m\u001b[0;34m.\u001b[0m\u001b[0mget\u001b[0m\u001b[0;34m(\u001b[0m\u001b[0;34m)\u001b[0m\u001b[0;34m)\u001b[0m\u001b[0;34m\u001b[0m\u001b[0;34m\u001b[0m\u001b[0m\n",
      "\u001b[0;32m~/opt/anaconda3/lib/python3.8/site-packages/joblib/_parallel_backends.py\u001b[0m in \u001b[0;36mwrap_future_result\u001b[0;34m(future, timeout)\u001b[0m\n\u001b[1;32m    540\u001b[0m         AsyncResults.get from multiprocessing.\"\"\"\n\u001b[1;32m    541\u001b[0m         \u001b[0;32mtry\u001b[0m\u001b[0;34m:\u001b[0m\u001b[0;34m\u001b[0m\u001b[0;34m\u001b[0m\u001b[0m\n\u001b[0;32m--> 542\u001b[0;31m             \u001b[0;32mreturn\u001b[0m \u001b[0mfuture\u001b[0m\u001b[0;34m.\u001b[0m\u001b[0mresult\u001b[0m\u001b[0;34m(\u001b[0m\u001b[0mtimeout\u001b[0m\u001b[0;34m=\u001b[0m\u001b[0mtimeout\u001b[0m\u001b[0;34m)\u001b[0m\u001b[0;34m\u001b[0m\u001b[0;34m\u001b[0m\u001b[0m\n\u001b[0m\u001b[1;32m    543\u001b[0m         \u001b[0;32mexcept\u001b[0m \u001b[0mCfTimeoutError\u001b[0m \u001b[0;32mas\u001b[0m \u001b[0me\u001b[0m\u001b[0;34m:\u001b[0m\u001b[0;34m\u001b[0m\u001b[0;34m\u001b[0m\u001b[0m\n\u001b[1;32m    544\u001b[0m             \u001b[0;32mraise\u001b[0m \u001b[0mTimeoutError\u001b[0m \u001b[0;32mfrom\u001b[0m \u001b[0me\u001b[0m\u001b[0;34m\u001b[0m\u001b[0;34m\u001b[0m\u001b[0m\n",
      "\u001b[0;32m~/opt/anaconda3/lib/python3.8/concurrent/futures/_base.py\u001b[0m in \u001b[0;36mresult\u001b[0;34m(self, timeout)\u001b[0m\n\u001b[1;32m    432\u001b[0m                 \u001b[0;32mreturn\u001b[0m \u001b[0mself\u001b[0m\u001b[0;34m.\u001b[0m\u001b[0m__get_result\u001b[0m\u001b[0;34m(\u001b[0m\u001b[0;34m)\u001b[0m\u001b[0;34m\u001b[0m\u001b[0;34m\u001b[0m\u001b[0m\n\u001b[1;32m    433\u001b[0m \u001b[0;34m\u001b[0m\u001b[0m\n\u001b[0;32m--> 434\u001b[0;31m             \u001b[0mself\u001b[0m\u001b[0;34m.\u001b[0m\u001b[0m_condition\u001b[0m\u001b[0;34m.\u001b[0m\u001b[0mwait\u001b[0m\u001b[0;34m(\u001b[0m\u001b[0mtimeout\u001b[0m\u001b[0;34m)\u001b[0m\u001b[0;34m\u001b[0m\u001b[0;34m\u001b[0m\u001b[0m\n\u001b[0m\u001b[1;32m    435\u001b[0m \u001b[0;34m\u001b[0m\u001b[0m\n\u001b[1;32m    436\u001b[0m             \u001b[0;32mif\u001b[0m \u001b[0mself\u001b[0m\u001b[0;34m.\u001b[0m\u001b[0m_state\u001b[0m \u001b[0;32min\u001b[0m \u001b[0;34m[\u001b[0m\u001b[0mCANCELLED\u001b[0m\u001b[0;34m,\u001b[0m \u001b[0mCANCELLED_AND_NOTIFIED\u001b[0m\u001b[0;34m]\u001b[0m\u001b[0;34m:\u001b[0m\u001b[0;34m\u001b[0m\u001b[0;34m\u001b[0m\u001b[0m\n",
      "\u001b[0;32m~/opt/anaconda3/lib/python3.8/threading.py\u001b[0m in \u001b[0;36mwait\u001b[0;34m(self, timeout)\u001b[0m\n\u001b[1;32m    300\u001b[0m         \u001b[0;32mtry\u001b[0m\u001b[0;34m:\u001b[0m    \u001b[0;31m# restore state no matter what (e.g., KeyboardInterrupt)\u001b[0m\u001b[0;34m\u001b[0m\u001b[0;34m\u001b[0m\u001b[0m\n\u001b[1;32m    301\u001b[0m             \u001b[0;32mif\u001b[0m \u001b[0mtimeout\u001b[0m \u001b[0;32mis\u001b[0m \u001b[0;32mNone\u001b[0m\u001b[0;34m:\u001b[0m\u001b[0;34m\u001b[0m\u001b[0;34m\u001b[0m\u001b[0m\n\u001b[0;32m--> 302\u001b[0;31m                 \u001b[0mwaiter\u001b[0m\u001b[0;34m.\u001b[0m\u001b[0macquire\u001b[0m\u001b[0;34m(\u001b[0m\u001b[0;34m)\u001b[0m\u001b[0;34m\u001b[0m\u001b[0;34m\u001b[0m\u001b[0m\n\u001b[0m\u001b[1;32m    303\u001b[0m                 \u001b[0mgotit\u001b[0m \u001b[0;34m=\u001b[0m \u001b[0;32mTrue\u001b[0m\u001b[0;34m\u001b[0m\u001b[0;34m\u001b[0m\u001b[0m\n\u001b[1;32m    304\u001b[0m             \u001b[0;32melse\u001b[0m\u001b[0;34m:\u001b[0m\u001b[0;34m\u001b[0m\u001b[0;34m\u001b[0m\u001b[0m\n",
      "\u001b[0;31mKeyboardInterrupt\u001b[0m: "
     ]
    }
   ],
   "source": [
    "estimator = XGBClassifier(\n",
    "objective= 'multi:softmax',\n",
    "        nthread=2,\n",
    "        seed=42)\n",
    "parameters = {\n",
    "            'max_depth': range (2, 10, 2),\n",
    "            'n_estimators': range(20, 120, 20),\n",
    "            'learning_rate': [0.001,0.01, 0.1]\n",
    "        }\n",
    "xgb_grid_search = GridSearchCV(\n",
    "            estimator=estimator,\n",
    "            param_grid=parameters,\n",
    "            n_jobs = -1,\n",
    "            cv = 2,\n",
    "            verbose=False\n",
    "        )\n",
    "xgb_grid_search.fit(X_train, y_train)\n",
    "print(f\"Training Accuracy: {xgb_grid_search.best_score_ :.2%}\")\n",
    "print(\"\")\n",
    "print(f\"Optimal Parameters: {xgb_grid_search.best_params_}\")\n",
    "xgb_best = xgb_grid_search.best_params_\n",
    "y_hat_test_XGB = xgb_grid_search.predict(X_test)\n",
    "XGB_dict = {'accuracy':accuracy_score(y_hat_test_XGB,y_test)}\n",
    "\n",
    "print(XGB_dict)\n"
   ]
  },
  {
   "cell_type": "markdown",
   "metadata": {},
   "source": [
    "### SVD"
   ]
  },
  {
   "cell_type": "code",
   "execution_count": 350,
   "metadata": {},
   "outputs": [],
   "source": [
    "y = df['label']\n",
    "digits = scaler.fit_transform(df.drop(['label'],axis=1).to_numpy().T)\n",
    "digitsavg = np.mean(digits,axis=1)\n",
    "\n",
    "XPCA = digits - np.tile(digitsavg.reshape(-1,1).T,(digits.shape[1],1)).T\n",
    "\n",
    "U,S,VT = np.linalg.svd(XPCA,full_matrices=0)"
   ]
  },
  {
   "cell_type": "code",
   "execution_count": 351,
   "metadata": {},
   "outputs": [],
   "source": [
    "r = 500\n",
    "X = scaler.fit_transform((U[:,:r].T @ XPCA).T)"
   ]
  },
  {
   "cell_type": "code",
   "execution_count": 352,
   "metadata": {},
   "outputs": [
    {
     "data": {
      "text/plain": [
       "(42000, 500)"
      ]
     },
     "execution_count": 352,
     "metadata": {},
     "output_type": "execute_result"
    }
   ],
   "source": [
    "X.shape"
   ]
  },
  {
   "cell_type": "code",
   "execution_count": 353,
   "metadata": {},
   "outputs": [
    {
     "name": "stderr",
     "output_type": "stream",
     "text": [
      "/Users/akshayghalsasi/opt/anaconda3/lib/python3.8/site-packages/joblib/externals/loky/process_executor.py:688: UserWarning: A worker stopped while some jobs were given to the executor. This can be caused by a too short worker timeout or by a memory leak.\n",
      "  warnings.warn(\n"
     ]
    },
    {
     "name": "stdout",
     "output_type": "stream",
     "text": [
      "Training Accuracy: 91.02%\n",
      "\n",
      "Optimal Parameters: {'criterion': 'entropy', 'max_depth': None, 'min_samples_leaf': 5, 'min_samples_split': 5, 'n_estimators': 100}\n",
      "{'accuracy': 0.9141666666666667}\n"
     ]
    }
   ],
   "source": [
    "X_train, X_test, y_train, y_test = train_test_split(X, y, test_size=0.2)\n",
    "rf_clf = RandomForestClassifier()\n",
    "rf_param_grid = {\n",
    "            'n_estimators': [100],\n",
    "            'criterion': ['gini', 'entropy'],\n",
    "            'max_depth': [None, 5,10],\n",
    "            'min_samples_split': [None,5,10],\n",
    "            'min_samples_leaf': [None,3,5]\n",
    "        }\n",
    "rf_grid_search = GridSearchCV(rf_clf, rf_param_grid, cv=5,n_jobs=-1)\n",
    "rf_grid_search.fit(X_train, y_train)\n",
    "print(f\"Training Accuracy: {rf_grid_search.best_score_ :.2%}\")\n",
    "print(\"\")\n",
    "print(f\"Optimal Parameters: {rf_grid_search.best_params_}\")\n",
    "best_rf = rf_grid_search.best_params_\n",
    "\n",
    "y_hat_test_RF = rf_grid_search.predict(X_test)\n",
    "RF_dict = {'accuracy':accuracy_score(y_hat_test_RF,y_test)}\n",
    "print(RF_dict)\n"
   ]
  },
  {
   "cell_type": "markdown",
   "metadata": {},
   "source": [
    "## Neural Networks"
   ]
  },
  {
   "cell_type": "code",
   "execution_count": 357,
   "metadata": {},
   "outputs": [],
   "source": [
    "y = df['label']\n",
    "scaler = StandardScaler()\n",
    "X = scaler.fit_transform(df.drop(['label'],axis=1))\n",
    "X_train, X_test, y_train, y_test = train_test_split(X, y, test_size=0.2)"
   ]
  },
  {
   "cell_type": "code",
   "execution_count": 358,
   "metadata": {},
   "outputs": [
    {
     "ename": "NameError",
     "evalue": "name 'Sequential' is not defined",
     "output_type": "error",
     "traceback": [
      "\u001b[0;31m---------------------------------------------------------------------------\u001b[0m",
      "\u001b[0;31mNameError\u001b[0m                                 Traceback (most recent call last)",
      "\u001b[0;32m<ipython-input-358-9fc0fd6fe9c5>\u001b[0m in \u001b[0;36m<module>\u001b[0;34m\u001b[0m\n\u001b[0;32m----> 1\u001b[0;31m \u001b[0mmodel_3\u001b[0m \u001b[0;34m=\u001b[0m \u001b[0mSequential\u001b[0m\u001b[0;34m(\u001b[0m\u001b[0;34m)\u001b[0m\u001b[0;34m\u001b[0m\u001b[0;34m\u001b[0m\u001b[0m\n\u001b[0m\u001b[1;32m      2\u001b[0m \u001b[0mmodel_3\u001b[0m\u001b[0;34m.\u001b[0m\u001b[0madd\u001b[0m\u001b[0;34m(\u001b[0m\u001b[0mDense\u001b[0m\u001b[0;34m(\u001b[0m\u001b[0;36m64\u001b[0m\u001b[0;34m,\u001b[0m \u001b[0mactivation\u001b[0m\u001b[0;34m=\u001b[0m\u001b[0;34m'relu'\u001b[0m\u001b[0;34m,\u001b[0m \u001b[0minput_shape\u001b[0m\u001b[0;34m=\u001b[0m\u001b[0;34m(\u001b[0m\u001b[0;36m784\u001b[0m\u001b[0;34m,\u001b[0m\u001b[0;34m)\u001b[0m\u001b[0;34m)\u001b[0m\u001b[0;34m)\u001b[0m\u001b[0;34m\u001b[0m\u001b[0;34m\u001b[0m\u001b[0m\n\u001b[1;32m      3\u001b[0m \u001b[0mmodel_3\u001b[0m\u001b[0;34m.\u001b[0m\u001b[0madd\u001b[0m\u001b[0;34m(\u001b[0m\u001b[0mDense\u001b[0m\u001b[0;34m(\u001b[0m\u001b[0;36m32\u001b[0m\u001b[0;34m,\u001b[0m \u001b[0mactivation\u001b[0m\u001b[0;34m=\u001b[0m\u001b[0;34m'relu'\u001b[0m\u001b[0;34m)\u001b[0m\u001b[0;34m)\u001b[0m\u001b[0;34m\u001b[0m\u001b[0;34m\u001b[0m\u001b[0m\n\u001b[1;32m      4\u001b[0m \u001b[0mmodel_3\u001b[0m\u001b[0;34m.\u001b[0m\u001b[0madd\u001b[0m\u001b[0;34m(\u001b[0m\u001b[0mDense\u001b[0m\u001b[0;34m(\u001b[0m\u001b[0;36m10\u001b[0m\u001b[0;34m,\u001b[0m \u001b[0mactivation\u001b[0m\u001b[0;34m=\u001b[0m\u001b[0;34m'softmax'\u001b[0m\u001b[0;34m)\u001b[0m\u001b[0;34m)\u001b[0m\u001b[0;34m\u001b[0m\u001b[0;34m\u001b[0m\u001b[0m\n\u001b[1;32m      5\u001b[0m \u001b[0mmodel_3\u001b[0m\u001b[0;34m.\u001b[0m\u001b[0msummary\u001b[0m\u001b[0;34m(\u001b[0m\u001b[0;34m)\u001b[0m\u001b[0;34m\u001b[0m\u001b[0;34m\u001b[0m\u001b[0m\n",
      "\u001b[0;31mNameError\u001b[0m: name 'Sequential' is not defined"
     ]
    }
   ],
   "source": [
    "model_3 = Sequential()\n",
    "model_3.add(Dense(64, activation='relu', input_shape=(784,)))\n",
    "model_3.add(Dense(32, activation='relu'))\n",
    "model_3.add(Dense(10, activation='softmax'))\n",
    "model_3.summary()\n",
    "\n",
    "#model_3.compile(loss='categorical_crossentropy', optimizer='sgd', metrics=['acc'])\n"
   ]
  },
  {
   "cell_type": "markdown",
   "metadata": {},
   "source": [
    "## RF with predict probabilities"
   ]
  },
  {
   "cell_type": "code",
   "execution_count": 567,
   "metadata": {},
   "outputs": [
    {
     "name": "stderr",
     "output_type": "stream",
     "text": [
      "/Users/akshayghalsasi/opt/anaconda3/lib/python3.8/site-packages/joblib/externals/loky/process_executor.py:688: UserWarning: A worker stopped while some jobs were given to the executor. This can be caused by a too short worker timeout or by a memory leak.\n",
      "  warnings.warn(\n"
     ]
    },
    {
     "name": "stdout",
     "output_type": "stream",
     "text": [
      "Training Accuracy: 95.79%\n",
      "\n",
      "Optimal Parameters: {'criterion': 'entropy', 'max_depth': None, 'min_samples_leaf': 3, 'min_samples_split': 5, 'n_estimators': 100}\n",
      "{'accuracy': 0.9585714285714285}\n"
     ]
    },
    {
     "data": {
      "text/plain": [
       "0.9585714285714285"
      ]
     },
     "execution_count": 567,
     "metadata": {},
     "output_type": "execute_result"
    }
   ],
   "source": [
    "start_time = time.time()\n",
    "y = df['label']\n",
    "scaler = StandardScaler()\n",
    "X = scaler.fit_transform(df.drop(['label'],axis=1))\n",
    "X_train, X_test, y_train, y_test = train_test_split(X, y, test_size=0.2,random_state=42)\n",
    "\n",
    "rf_clf = RandomForestClassifier()\n",
    "rf_param_grid = {\n",
    "            'n_estimators': [100],\n",
    "            'criterion': ['gini', 'entropy'],\n",
    "            'max_depth': [None, 2, 3, 5,10],\n",
    "            'min_samples_split': [None,5,10],\n",
    "            'min_samples_leaf': [None,3,5],\n",
    "        }\n",
    "rf_grid_search = GridSearchCV(rf_clf, rf_param_grid, cv=5,n_jobs=-1)\n",
    "rf_grid_search.fit(X_train, y_train)\n",
    "print(f\"Training Accuracy: {rf_grid_search.best_score_ :.2%}\")\n",
    "print(\"\")\n",
    "print(f\"Optimal Parameters: {rf_grid_search.best_params_}\")\n",
    "best_rf = rf_grid_search.best_params_\n",
    "\n",
    "y_hat_test_RF = rf_grid_search.predict(X_test)\n",
    "RF_dict = {'accuracy':accuracy_score(y_hat_test_RF,y_test)}\n",
    "print(RF_dict)\n",
    "\n",
    "\n",
    "\n",
    "accuracy_score(y_hat_test_RF,y_test)"
   ]
  },
  {
   "cell_type": "code",
   "execution_count": 640,
   "metadata": {},
   "outputs": [
    {
     "data": {
      "text/plain": [
       "(array([0.08366109, 0.30723813, 0.43994192, 0.5899549 , 0.68515545,\n",
       "        0.87555654, 1.09480628, 1.5347482 , 2.03094499, 4.47442567]),\n",
       " array([0.1746746 , 0.25720714, 0.33973968, 0.42227222, 0.50480476,\n",
       "        0.5873373 , 0.66986984, 0.75240238, 0.83493492, 0.91746746,\n",
       "        1.        ]),\n",
       " <BarContainer object of 10 artists>)"
      ]
     },
     "execution_count": 640,
     "metadata": {},
     "output_type": "execute_result"
    },
    {
     "data": {
      "image/png": "[encoded data removed]",
      "text/plain": [
       "<Figure size 432x288 with 1 Axes>"
      ]
     },
     "metadata": {
      "needs_background": "light"
     },
     "output_type": "display_data"
    }
   ],
   "source": [
    "plt.hist(np.amax(rf_grid_search.predict_proba(X_train),axis=1),density=True)\n",
    "plt.hist(np.amax(rf_grid_search.predict_proba(X_test),axis=1),density = True)"
   ]
  },
  {
   "cell_type": "code",
   "execution_count": 573,
   "metadata": {},
   "outputs": [
    {
     "data": {
      "text/plain": [
       "(array([  58.,  213.,  305.,  409.,  475.,  607.,  759., 1064., 1408.,\n",
       "        3102.]),\n",
       " array([0.1746746 , 0.25720714, 0.33973968, 0.42227222, 0.50480476,\n",
       "        0.5873373 , 0.66986984, 0.75240238, 0.83493492, 0.91746746,\n",
       "        1.        ]),\n",
       " <BarContainer object of 10 artists>)"
      ]
     },
     "execution_count": 573,
     "metadata": {},
     "output_type": "execute_result"
    },
    {
     "data": {
      "image/png": "[encoded data removed]",
      "text/plain": [
       "<Figure size 432x288 with 1 Axes>"
      ]
     },
     "metadata": {
      "needs_background": "light"
     },
     "output_type": "display_data"
    }
   ],
   "source": [
    "plt.hist(np.amax(rf_grid_search.predict_proba(X_test),axis=1))"
   ]
  },
  {
   "cell_type": "code",
   "execution_count": null,
   "metadata": {},
   "outputs": [],
   "source": [
    "#### We will choose all the data with max classification probability < 0.6 for further fitting with SVM"
   ]
  },
  {
   "cell_type": "code",
   "execution_count": 641,
   "metadata": {},
   "outputs": [],
   "source": [
    "X_train_svm = X_train[np.amax(rf_grid_search.predict_proba(X_train),axis=1) < 0.8]\n",
    "y_train_svm = y_train[np.amax(rf_grid_search.predict_proba(X_train),axis=1) < 0.8]\n",
    "X_test_svm = X_test[np.amax(rf_grid_search.predict_proba(X_test),axis=1) < 0.8]\n",
    "y_test_svm = y_test[np.amax(rf_grid_search.predict_proba(X_test),axis=1) < 0.8]\n"
   ]
  },
  {
   "cell_type": "code",
   "execution_count": 642,
   "metadata": {},
   "outputs": [
    {
     "name": "stdout",
     "output_type": "stream",
     "text": [
      "0.249375\n",
      "0.4023809523809524\n"
     ]
    }
   ],
   "source": [
    "print(X_train_svm.shape[0]/X_train.shape[0])\n",
    "print(X_test_svm.shape[0]/X_test.shape[0])"
   ]
  },
  {
   "cell_type": "code",
   "execution_count": 643,
   "metadata": {},
   "outputs": [
    {
     "name": "stderr",
     "output_type": "stream",
     "text": [
      "/Users/akshayghalsasi/opt/anaconda3/lib/python3.8/site-packages/joblib/externals/loky/process_executor.py:688: UserWarning: A worker stopped while some jobs were given to the executor. This can be caused by a too short worker timeout or by a memory leak.\n",
      "  warnings.warn(\n"
     ]
    },
    {
     "name": "stdout",
     "output_type": "stream",
     "text": [
      "Training Accuracy: 86.05%\n",
      "\n",
      "Optimal Parameters: {'C': 100, 'class_weight': 'balanced', 'gamma': 'auto', 'probability': True}\n",
      "3095.536393880844\n"
     ]
    }
   ],
   "source": [
    "start_time = time.time()\n",
    "svm_clf = svm.SVC(kernel='rbf')\n",
    "#r_range =  np.array([0.25,0.5, 1,2,4])\n",
    "gamma_range =  ['auto','scale']\n",
    "C_range = [0.01,0.1,1,10,100,1000]\n",
    "#d_range = np.array([2,3, 4])\n",
    "param_grid = dict(C = C_range, gamma=gamma_range,probability = [True],class_weight = ['balanced'])\n",
    "svm_grid_search = GridSearchCV(svm_clf, param_grid, cv=5,n_jobs=-1)\n",
    "svm_grid_search.fit(X_train_svm, y_train_svm)\n",
    "best_svm = svm_grid_search.best_params_\n",
    "print(f\"Training Accuracy: {svm_grid_search.best_score_ :.2%}\")\n",
    "print(\"\")\n",
    "print(f\"Optimal Parameters: {svm_grid_search.best_params_}\")\n",
    "#y_hat_test_svm = svm_grid_search.predict(X_test)\n",
    "#svm_proba_SVD_200 = svm_grid_search.predict_proba(X_test)\n",
    "#SVM_poly_dict = {'accuracy':accuracy_score(y_hat_test_svm,y_test)}\n",
    "#print(SVM_poly_dict)\n",
    "print(time.time()-start_time)"
   ]
  },
  {
   "cell_type": "code",
   "execution_count": 644,
   "metadata": {},
   "outputs": [
    {
     "name": "stdout",
     "output_type": "stream",
     "text": [
      "{'accuracy': 0.913905325443787}\n"
     ]
    }
   ],
   "source": [
    "y_hat_test_svm = svm_grid_search.predict(X_test_svm)\n",
    "#svm_proba_SVD_200 = svm_grid_search.predict_proba(X_test_svm)\n",
    "SVM_poly_dict = {'accuracy':accuracy_score(y_hat_test_svm,y_test_svm)}\n",
    "print(SVM_poly_dict)\n"
   ]
  },
  {
   "cell_type": "code",
   "execution_count": 645,
   "metadata": {},
   "outputs": [
    {
     "data": {
      "text/plain": [
       "(array([  15.,   42.,  117.,  252.,  309.,  618., 1217., 1785., 2114.,\n",
       "        1910.]),\n",
       " array([0.9092622 , 0.91833576, 0.92740933, 0.9364829 , 0.94555646,\n",
       "        0.95463003, 0.9637036 , 0.97277716, 0.98185073, 0.9909243 ,\n",
       "        0.99999786]),\n",
       " <BarContainer object of 10 artists>)"
      ]
     },
     "execution_count": 645,
     "metadata": {},
     "output_type": "execute_result"
    },
    {
     "data": {
      "image/png": "[encoded data removed]",
      "text/plain": [
       "<Figure size 432x288 with 1 Axes>"
      ]
     },
     "metadata": {
      "needs_background": "light"
     },
     "output_type": "display_data"
    }
   ],
   "source": [
    "plt.hist(np.amax(svm_grid_search.predict_proba(X_train_svm),axis=1))"
   ]
  },
  {
   "cell_type": "code",
   "execution_count": 646,
   "metadata": {},
   "outputs": [
    {
     "data": {
      "text/plain": [
       "(array([  12.,   34.,   56.,  114.,  126.,  115.,  131.,  192.,  385.,\n",
       "        2215.]),\n",
       " array([0.17719656, 0.25947685, 0.34175714, 0.42403744, 0.50631773,\n",
       "        0.58859802, 0.67087831, 0.7531586 , 0.83543889, 0.91771919,\n",
       "        0.99999948]),\n",
       " <BarContainer object of 10 artists>)"
      ]
     },
     "execution_count": 646,
     "metadata": {},
     "output_type": "execute_result"
    },
    {
     "data": {
      "image/png": "[encoded data removed]",
      "text/plain": [
       "<Figure size 432x288 with 1 Axes>"
      ]
     },
     "metadata": {
      "needs_background": "light"
     },
     "output_type": "display_data"
    }
   ],
   "source": [
    "plt.hist(np.amax(svm_grid_search.predict_proba(X_test_svm),axis=1))"
   ]
  },
  {
   "cell_type": "code",
   "execution_count": 648,
   "metadata": {},
   "outputs": [
    {
     "name": "stdout",
     "output_type": "stream",
     "text": [
      "0.999203187250996\n"
     ]
    }
   ],
   "source": [
    "y_test_RF = y_test[np.amax(rf_grid_search.predict_proba(X_test),axis=1) >= 0.8]\n",
    "y_hat_test_RF_only = y_hat_test_RF[np.amax(rf_grid_search.predict_proba(X_test),axis=1) >= 0.8]\n",
    "RF_accuracy = accuracy_score(y_hat_test_RF_only,y_test_RF)\n",
    "print(RF_accuracy)"
   ]
  },
  {
   "cell_type": "code",
   "execution_count": 649,
   "metadata": {},
   "outputs": [
    {
     "name": "stdout",
     "output_type": "stream",
     "text": [
      "0.913905325443787\n"
     ]
    }
   ],
   "source": [
    "SVM_accuracy = accuracy_score(y_hat_test_svm,y_test_svm)\n",
    "print(SVM_accuracy)"
   ]
  },
  {
   "cell_type": "code",
   "execution_count": 650,
   "metadata": {},
   "outputs": [],
   "source": [
    "tot_accuracy = (RF_accuracy*(y_test_RF.shape[0]) + SVM_accuracy*y_test_svm.shape[0])/(y_test_RF.shape[0] + y_test_svm.shape[0])"
   ]
  },
  {
   "cell_type": "code",
   "execution_count": 651,
   "metadata": {},
   "outputs": [
    {
     "data": {
      "text/plain": [
       "0.9648809523809524"
      ]
     },
     "execution_count": 651,
     "metadata": {},
     "output_type": "execute_result"
    }
   ],
   "source": [
    "tot_accuracy"
   ]
  },
  {
   "cell_type": "code",
   "execution_count": 625,
   "metadata": {},
   "outputs": [
    {
     "data": {
      "text/plain": [
       "6834.0"
      ]
     },
     "execution_count": 625,
     "metadata": {},
     "output_type": "execute_result"
    }
   ],
   "source": [
    "RF_accuracy*(y_test_RF.shape[0])"
   ]
  },
  {
   "cell_type": "code",
   "execution_count": 627,
   "metadata": {},
   "outputs": [
    {
     "data": {
      "text/plain": [
       "1975.0"
      ]
     },
     "execution_count": 627,
     "metadata": {},
     "output_type": "execute_result"
    }
   ],
   "source": [
    "SVM_accuracy*y_test_svm.shape[0]"
   ]
  },
  {
   "cell_type": "code",
   "execution_count": null,
   "metadata": {},
   "outputs": [],
   "source": []
  }
 ],
 "metadata": {
  "kernelspec": {
   "display_name": "Python 3",
   "language": "python",
   "name": "python3"
  },
  "language_info": {
   "codemirror_mode": {
    "name": "ipython",
    "version": 3
   },
   "file_extension": ".py",
   "mimetype": "text/x-python",
   "name": "python",
   "nbconvert_exporter": "python",
   "pygments_lexer": "ipython3",
   "version": "3.8.5"
  }
 },
 "nbformat": 4,
 "nbformat_minor": 4
}
